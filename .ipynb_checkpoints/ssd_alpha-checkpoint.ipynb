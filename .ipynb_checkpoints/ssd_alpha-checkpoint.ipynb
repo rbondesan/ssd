{
 "cells": [
  {
   "cell_type": "markdown",
   "metadata": {},
   "source": [
    "Personal implementation of arXiv:1702.03037 [cs.MA].\n",
    "\n",
    "Refs:\n",
    "\n",
    "[1] DQN paper \n",
    "\n",
    "[2] An implementation of a simpler game in PyTorch at http://pytorch.org/tutorials/intermediate/reinforcement_q_learning.html\n",
    "\n",
    "Language chosen PyTorch since new, python, GPU."
   ]
  },
  {
   "cell_type": "code",
   "execution_count": 1,
   "metadata": {
    "collapsed": true
   },
   "outputs": [],
   "source": [
    "# General import\n",
    "import numpy as np\n",
    "import matplotlib\n",
    "import matplotlib.pyplot as plt\n",
    "from collections import namedtuple\n",
    "from itertools import count\n",
    "#from copy import deepcopy\n",
    "#from PIL import Image\n",
    "import math\n",
    "import random\n",
    "\n",
    "import torch\n",
    "import torch.nn as nn\n",
    "import torch.optim as optim\n",
    "import torch.autograd as autograd\n",
    "import torch.nn.functional as F\n",
    "#import torchvision.transforms as T\n",
    "\n",
    "# is_ipython = 'inline' in matplotlib.get_backend()\n",
    "# if is_ipython:\n",
    "#     from IPython import display"
   ]
  },
  {
   "cell_type": "markdown",
   "metadata": {},
   "source": [
    "### gathering_game class test"
   ]
  },
  {
   "cell_type": "code",
   "execution_count": 2,
   "metadata": {
    "collapsed": true
   },
   "outputs": [],
   "source": [
    "from modules.gathering import gathering_game"
   ]
  },
  {
   "cell_type": "code",
   "execution_count": 3,
   "metadata": {
    "scrolled": true
   },
   "outputs": [
    {
     "name": "stdout",
     "output_type": "stream",
     "text": [
      "pars {'N_tagged': 5, 'W': 33, 'H': 11, 'gamma': 0.99, 'N_apples': 2, 'size_obs_ahead': 15, 'size_obs_side': 10}\n",
      "[0 0]\n",
      "(3, 33, 11)\n"
     ]
    },
    {
     "data": {
      "image/png": "[encoded data removed]",
      "text/plain": [
       "<matplotlib.figure.Figure at 0x7f1cdc54be48>"
      ]
     },
     "metadata": {},
     "output_type": "display_data"
    },
    {
     "name": "stdout",
     "output_type": "stream",
     "text": [
      "Direction 0: right\n",
      "Direction 1: right\n"
     ]
    }
   ],
   "source": [
    "# test gathering_game class. test init functions\n",
    "game_pars={}\n",
    "game_pars['gamma']=.99\n",
    "game_pars['N_apples']=2\n",
    "game_pars['N_tagged']=5\n",
    "# local vars, should not be changed\n",
    "game_pars['W'] = 33 # Width, always odd\n",
    "game_pars['H'] = 11 # Height, always odd\n",
    "game_pars['size_obs_ahead'] = 15 # number of sites the players can see in front of them\n",
    "game_pars['size_obs_side'] = 10 # number of sites the players can see on their side\n",
    "\n",
    "test = gathering_game(game_pars)\n",
    "print('pars',test.pars)\n",
    "print(test.dir)\n",
    "print(test.s.shape)\n",
    "test.show_screen()"
   ]
  },
  {
   "cell_type": "code",
   "execution_count": 4,
   "metadata": {
    "collapsed": true
   },
   "outputs": [],
   "source": [
    "test.reset()"
   ]
  },
  {
   "cell_type": "code",
   "execution_count": 4,
   "metadata": {},
   "outputs": [
    {
     "data": {
      "image/png": "[encoded data removed]",
      "text/plain": [
       "<matplotlib.figure.Figure at 0x7fa0d862c128>"
      ]
     },
     "metadata": {},
     "output_type": "display_data"
    },
    {
     "name": "stdout",
     "output_type": "stream",
     "text": [
      "Direction 0: right\n",
      "Direction 1: right\n",
      "In update_status_apples: t_apples []\n",
      "a0 rot,a1 rot\n"
     ]
    },
    {
     "data": {
      "image/png": "[encoded data removed]",
      "text/plain": [
       "<matplotlib.figure.Figure at 0x7fa0d869b550>"
      ]
     },
     "metadata": {},
     "output_type": "display_data"
    },
    {
     "name": "stdout",
     "output_type": "stream",
     "text": [
      "Direction 1: down\n",
      "Direction 0: right\n"
     ]
    }
   ],
   "source": [
    "# s_t, a_{0,t}, a_{1,t}, s_{t+1}\n",
    "test.show_screen()\n",
    "r0,r1=test.transition_and_get_reward(test.actions_dict['stand_still'], test.actions_dict['rotate_right'])\n",
    "test.show_screen()"
   ]
  },
  {
   "cell_type": "code",
   "execution_count": 9,
   "metadata": {
    "scrolled": false
   },
   "outputs": [
    {
     "name": "stdout",
     "output_type": "stream",
     "text": [
      "In update_status_apples: t_apples []\n",
      "a0 rot,a1 rot\n"
     ]
    },
    {
     "data": {
      "image/png": "[encoded data removed]",
      "text/plain": [
       "<matplotlib.figure.Figure at 0x7f1cda203c18>"
      ]
     },
     "metadata": {},
     "output_type": "display_data"
    },
    {
     "name": "stdout",
     "output_type": "stream",
     "text": [
      "Direction 0: down\n",
      "Direction 1: up\n",
      "pos_0 0 7\n",
      "In pad_and_slice: obs_window_up, obs_window_down, obs_window_right, obs_window_left 8 0 11 0\n",
      "In pad_and_slice: pad_up, pad_down, pad_right, pad_left 0 8 0 10\n",
      "In pad_and_slice: slc_screen_x, slc_screen_y slice(0, 11, None) slice(0, 8, None)\n",
      "In obs_0: ret.shape, right one (3, 16, 21) (3, 16, 21)\n",
      "(21, 16, 3)\n"
     ]
    },
    {
     "data": {
      "image/png": "[encoded data removed]",
      "text/plain": [
       "<matplotlib.figure.Figure at 0x7f1cda2951d0>"
      ]
     },
     "metadata": {},
     "output_type": "display_data"
    },
    {
     "name": "stdout",
     "output_type": "stream",
     "text": [
      "pos_1 0 5\n",
      "In pad_and_slice: obs_window_up, obs_window_down, obs_window_right, obs_window_left 11 5 11 0\n",
      "In pad_and_slice: pad_up, pad_down, pad_right, pad_left 10 0 0 10\n",
      "In pad_and_slice: slc_screen_x, slc_screen_y slice(0, 11, None) slice(5, 11, None)\n",
      "In obs_1: ret.shape, right one (3, 16, 21) (3, 16, 21)\n",
      "(21, 16, 3)\n"
     ]
    },
    {
     "data": {
      "image/png": "[encoded data removed]",
      "text/plain": [
       "<matplotlib.figure.Figure at 0x7f1cda2e0400>"
      ]
     },
     "metadata": {},
     "output_type": "display_data"
    }
   ],
   "source": [
    "# test of observation functions\n",
    "# test of obs_0  \n",
    "r0,r1=test.transition_and_get_reward(test.actions_dict['rotate_right'], test.actions_dict['rotate_left'])\n",
    "test.show_screen()\n",
    "#print('Reward', r0,r1)\n",
    "obs_0_s=test.obs_0()\n",
    "to_show = obs_0_s.transpose((2,1,0))\n",
    "print(to_show.shape)\n",
    "plt.imshow(to_show,origin='lower')\n",
    "plt.show()\n",
    "# test of obs_1\n",
    "obs_1_s=test.obs_1()\n",
    "to_show = obs_1_s.transpose((2,1,0))\n",
    "print(to_show.shape)\n",
    "plt.imshow(to_show,origin='lower')\n",
    "plt.show()"
   ]
  },
  {
   "cell_type": "code",
   "execution_count": 8,
   "metadata": {},
   "outputs": [
    {
     "data": {
      "image/png": "[encoded data removed]",
      "text/plain": [
       "<matplotlib.figure.Figure at 0x7f1cda1a84e0>"
      ]
     },
     "metadata": {},
     "output_type": "display_data"
    },
    {
     "name": "stdout",
     "output_type": "stream",
     "text": [
      "Direction 0: right\n",
      "Direction 1: right\n"
     ]
    }
   ],
   "source": [
    "test.reset()\n",
    "test.show_screen()"
   ]
  },
  {
   "cell_type": "code",
   "execution_count": 20,
   "metadata": {
    "scrolled": true
   },
   "outputs": [
    {
     "name": "stdout",
     "output_type": "stream",
     "text": [
      "In update_status_apples: t_apples []\n",
      "a0,a1 mov\n",
      "in get_new_pos, pl 0 cur_pos 0 7\n",
      "cur_dir,a 0 0\n",
      "new_x,new_y 1 1.0 7 7.0\n",
      "in get_new_pos, pl 1 cur_pos 0 5\n",
      "cur_dir,a 0 0\n",
      "new_x,new_y 1 1.0 5 5.0\n",
      "in move_and_update_apples, pl 0 pos 0 7\n",
      "s: 255\n",
      "in move_and_update_apples, pl 1 pos 0 5\n",
      "s: 255\n",
      "In update_status_apples: t_apples []\n",
      "a0,a1 mov\n",
      "in get_new_pos, pl 0 cur_pos 1 7\n",
      "cur_dir,a 0 0\n",
      "new_x,new_y 2 2.0 7 7.0\n",
      "in get_new_pos, pl 1 cur_pos 1 5\n",
      "cur_dir,a 0 0\n",
      "new_x,new_y 2 2.0 5 5.0\n",
      "in move_and_update_apples, pl 0 pos 1 7\n",
      "s: 255\n",
      "in move_and_update_apples, pl 1 pos 1 5\n",
      "s: 255\n",
      "In update_status_apples: t_apples []\n",
      "a0,a1 mov\n",
      "in get_new_pos, pl 0 cur_pos 2 7\n",
      "cur_dir,a 0 0\n",
      "new_x,new_y 3 3.0 7 7.0\n",
      "in get_new_pos, pl 1 cur_pos 2 5\n",
      "cur_dir,a 0 0\n",
      "new_x,new_y 3 3.0 5 5.0\n",
      "in move_and_update_apples, pl 0 pos 2 7\n",
      "s: 255\n",
      "in move_and_update_apples, pl 1 pos 2 5\n",
      "s: 255\n",
      "In update_status_apples: t_apples []\n",
      "a0,a1 mov\n",
      "in get_new_pos, pl 0 cur_pos 3 7\n",
      "cur_dir,a 0 0\n",
      "new_x,new_y 4 4.0 7 7.0\n",
      "in get_new_pos, pl 1 cur_pos 3 5\n",
      "cur_dir,a 0 0\n",
      "new_x,new_y 4 4.0 5 5.0\n",
      "in move_and_update_apples, pl 0 pos 3 7\n",
      "s: 255\n",
      "in move_and_update_apples, pl 1 pos 3 5\n",
      "s: 255\n",
      "In update_status_apples: t_apples []\n",
      "a0,a1 mov\n",
      "in get_new_pos, pl 0 cur_pos 4 7\n",
      "cur_dir,a 0 0\n",
      "new_x,new_y 5 5.0 7 7.0\n",
      "in get_new_pos, pl 1 cur_pos 4 5\n",
      "cur_dir,a 0 0\n",
      "new_x,new_y 5 5.0 5 5.0\n",
      "in move_and_update_apples, pl 0 pos 4 7\n",
      "s: 255\n",
      "in move_and_update_apples, pl 1 pos 4 5\n",
      "s: 255\n",
      "In update_status_apples: t_apples []\n",
      "a0,a1 mov\n",
      "in get_new_pos, pl 0 cur_pos 5 7\n",
      "cur_dir,a 0 0\n",
      "new_x,new_y 6 6.0 7 7.0\n",
      "in get_new_pos, pl 1 cur_pos 5 5\n",
      "cur_dir,a 0 0\n",
      "new_x,new_y 6 6.0 5 5.0\n",
      "in move_and_update_apples, pl 0 pos 5 7\n",
      "s: 255\n",
      "in move_and_update_apples, pl 1 pos 5 5\n",
      "s: 255\n",
      "In update_status_apples: t_apples []\n",
      "a0,a1 mov\n",
      "in get_new_pos, pl 0 cur_pos 6 7\n",
      "cur_dir,a 0 0\n",
      "new_x,new_y 7 7.0 7 7.0\n",
      "in get_new_pos, pl 1 cur_pos 6 5\n",
      "cur_dir,a 0 0\n",
      "new_x,new_y 7 7.0 5 5.0\n",
      "in move_and_update_apples, pl 0 pos 6 7\n",
      "s: 255\n",
      "in move_and_update_apples, pl 1 pos 6 5\n",
      "s: 255\n",
      "In update_status_apples: t_apples []\n",
      "a0,a1 mov\n",
      "in get_new_pos, pl 0 cur_pos 7 7\n",
      "cur_dir,a 0 0\n",
      "new_x,new_y 8 8.0 7 7.0\n",
      "in get_new_pos, pl 1 cur_pos 7 5\n",
      "cur_dir,a 0 0\n",
      "new_x,new_y 8 8.0 5 5.0\n",
      "in move_and_update_apples, pl 0 pos 7 7\n",
      "s: 255\n",
      "in move_and_update_apples, pl 1 pos 7 5\n",
      "s: 255\n",
      "In update_status_apples: t_apples []\n",
      "a0,a1 mov\n",
      "in get_new_pos, pl 0 cur_pos 8 7\n",
      "cur_dir,a 0 0\n",
      "new_x,new_y 9 9.0 7 7.0\n",
      "in get_new_pos, pl 1 cur_pos 8 5\n",
      "cur_dir,a 0 0\n",
      "new_x,new_y 9 9.0 5 5.0\n",
      "in move_and_update_apples, pl 0 pos 8 7\n",
      "s: 255\n",
      "in move_and_update_apples, pl 1 pos 8 5\n",
      "s: 255\n",
      "In update_status_apples: t_apples []\n",
      "a0,a1 mov\n",
      "in get_new_pos, pl 0 cur_pos 9 7\n",
      "cur_dir,a 0 0\n",
      "new_x,new_y 10 10.0 7 7.0\n",
      "in get_new_pos, pl 1 cur_pos 9 5\n",
      "cur_dir,a 0 0\n",
      "new_x,new_y 10 10.0 5 5.0\n",
      "in move_and_update_apples, pl 0 pos 9 7\n",
      "s: 255\n",
      "in move_and_update_apples, pl 1 pos 9 5\n",
      "s: 255\n",
      "In update_status_apples: t_apples []\n",
      "a0,a1 mov\n",
      "in get_new_pos, pl 0 cur_pos 10 7\n",
      "cur_dir,a 0 0\n",
      "new_x,new_y 11 11.0 7 7.0\n",
      "in get_new_pos, pl 1 cur_pos 10 5\n",
      "cur_dir,a 0 0\n",
      "new_x,new_y 11 11.0 5 5.0\n",
      "in move_and_update_apples, pl 0 pos 10 7\n",
      "s: 255\n",
      "in move_and_update_apples, pl 1 pos 10 5\n",
      "s: 255\n",
      "In update_status_apples: t_apples []\n",
      "a0,a1 mov\n",
      "in get_new_pos, pl 0 cur_pos 11 7\n",
      "cur_dir,a 0 0\n",
      "new_x,new_y 12 12.0 7 7.0\n",
      "in get_new_pos, pl 1 cur_pos 11 5\n",
      "cur_dir,a 0 0\n",
      "new_x,new_y 12 12.0 5 5.0\n",
      "in move_and_update_apples, pl 0 pos 11 7\n",
      "s: 255\n",
      "in move_and_update_apples, pl 1 pos 11 5\n",
      "s: 255\n",
      "In update_status_apples: t_apples []\n",
      "a0,a1 mov\n",
      "in get_new_pos, pl 0 cur_pos 12 7\n",
      "cur_dir,a 0 0\n",
      "new_x,new_y 13 13.0 7 7.0\n",
      "in get_new_pos, pl 1 cur_pos 12 5\n",
      "cur_dir,a 0 0\n",
      "new_x,new_y 13 13.0 5 5.0\n",
      "in move_and_update_apples, pl 0 pos 12 7\n",
      "s: 255\n",
      "in move_and_update_apples, pl 1 pos 12 5\n",
      "s: 255\n",
      "In update_status_apples: t_apples []\n",
      "a0,a1 mov\n",
      "in get_new_pos, pl 0 cur_pos 13 7\n",
      "cur_dir,a 0 0\n",
      "new_x,new_y 14 14.0 7 7.0\n",
      "in get_new_pos, pl 1 cur_pos 13 5\n",
      "cur_dir,a 0 0\n",
      "new_x,new_y 14 14.0 5 5.0\n",
      "in move_and_update_apples, pl 0 pos 13 7\n",
      "s: 255\n",
      "in move_and_update_apples, pl 1 pos 13 5\n",
      "s: 255\n",
      "In update_status_apples: t_apples []\n",
      "a0,a1 mov\n",
      "in get_new_pos, pl 0 cur_pos 14 7\n",
      "cur_dir,a 0 0\n",
      "new_x,new_y 15 15.0 7 7.0\n",
      "in get_new_pos, pl 1 cur_pos 14 5\n",
      "cur_dir,a 0 0\n",
      "new_x,new_y 15 15.0 5 5.0\n",
      "in move_and_update_apples, pl 0 pos 14 7\n",
      "s: 255\n",
      "in move_and_update_apples, pl 1 pos 14 5\n",
      "s: 255\n"
     ]
    },
    {
     "data": {
      "image/png": "[encoded data removed]",
      "text/plain": [
       "<matplotlib.figure.Figure at 0x7f8ecf82fba8>"
      ]
     },
     "metadata": {},
     "output_type": "display_data"
    },
    {
     "name": "stdout",
     "output_type": "stream",
     "text": [
      "Direction 0: right\n",
      "Direction 1: right\n"
     ]
    }
   ],
   "source": [
    "for i in range(15):\n",
    "    test.transition_and_get_reward(test.actions_dict['step_forward'], test.actions_dict['step_forward'])\n",
    "test.show_screen()"
   ]
  },
  {
   "cell_type": "code",
   "execution_count": 37,
   "metadata": {
    "scrolled": true
   },
   "outputs": [
    {
     "name": "stdout",
     "output_type": "stream",
     "text": [
      "In update_status_apples: t_apples []\n",
      "a0,a1 mov\n",
      "in get_new_pos, pl 0 cur_pos 20 8\n",
      "cur_dir,a 0 0\n",
      "new_x,new_y 21 21.0 8 8.0\n",
      "in get_new_pos, pl 1 cur_pos 20 4\n",
      "cur_dir,a 0 0\n",
      "new_x,new_y 21 21.0 4 4.0\n",
      "in move_and_update_apples, pl 0 pos 20 8\n",
      "s: 255\n",
      "in move_and_update_apples, pl 1 pos 20 4\n",
      "s: 255\n"
     ]
    },
    {
     "data": {
      "image/png": "[encoded data removed]",
      "text/plain": [
       "<matplotlib.figure.Figure at 0x7f8ecf908320>"
      ]
     },
     "metadata": {},
     "output_type": "display_data"
    },
    {
     "name": "stdout",
     "output_type": "stream",
     "text": [
      "Direction 0: right\n",
      "Direction 1: right\n",
      "Reward 0 0\n"
     ]
    }
   ],
   "source": [
    "#r0,r1=test.transition_and_get_reward(test.actions_dict['stand_still'], test.actions_dict['stand_still'])\n",
    "r0,r1=test.transition_and_get_reward(test.actions_dict['step_forward'], test.actions_dict['step_forward'])\n",
    "#r0,r1=test.transition_and_get_reward(test.actions_dict['step_left'], test.actions_dict['step_right'])\n",
    "test.show_screen()\n",
    "print('Reward',r0,r1)"
   ]
  },
  {
   "cell_type": "code",
   "execution_count": 195,
   "metadata": {
    "scrolled": false
   },
   "outputs": [
    {
     "name": "stdout",
     "output_type": "stream",
     "text": [
      "In update_status_apples: t_apples []\n",
      "a0,a1 mov\n",
      "in get_new_pos, pl 0 cur_pos 15 7\n",
      "cur_dir,a 0 3\n",
      "new_x,new_y 15 15.0 6 6.0\n",
      "in get_new_pos, pl 1 cur_pos 15 5\n",
      "cur_dir,a 0 3\n",
      "new_x,new_y 15 15.0 4 4.0\n",
      "In move_and_update_apples, got an apple!\n",
      "in move_and_update_apples, pl 0 pos 15 7\n",
      "s: 255\n",
      "in move_and_update_apples, pl 1 pos 15 5\n",
      "s: 255\n"
     ]
    },
    {
     "data": {
      "image/png": "[encoded data removed]",
      "text/plain": [
       "<matplotlib.figure.Figure at 0x7f55f999a278>"
      ]
     },
     "metadata": {},
     "output_type": "display_data"
    },
    {
     "name": "stdout",
     "output_type": "stream",
     "text": [
      "Direction 0: right\n",
      "Direction 1: right\n",
      "Reward 1 0\n"
     ]
    }
   ],
   "source": [
    "r0,r1=test.transition_and_get_reward(test.actions_dict['step_right'], test.actions_dict['step_right'])\n",
    "test.show_screen()\n",
    "print('Reward', r0,r1)"
   ]
  },
  {
   "cell_type": "code",
   "execution_count": 10,
   "metadata": {
    "collapsed": true
   },
   "outputs": [],
   "source": [
    "# test the transition functions by performing random moves:\n",
    "import time\n",
    "def random_actions():\n",
    "    # init\n",
    "    game = gathering_game(game_pars)\n",
    "    # play N random actions and show on screen\n",
    "    N = 5\n",
    "    for t in range(N):\n",
    "        print('Time',game.global_time)\n",
    "        a0,a1 = (8*np.random.random((2,))).astype(int)\n",
    "        for k,v in game.actions_dict.items():\n",
    "            if a0 == v:\n",
    "                print('Action 0:',k)\n",
    "            if a1 == v:\n",
    "                print('Action 1:',k)\n",
    "        game.transition_and_get_reward(a0, a1)\n",
    "        game.show_screen()\n",
    "        time.sleep(1)"
   ]
  },
  {
   "cell_type": "code",
   "execution_count": 11,
   "metadata": {
    "scrolled": false
   },
   "outputs": [
    {
     "name": "stdout",
     "output_type": "stream",
     "text": [
      "Time 0\n",
      "Action 1: use_beam\n",
      "Action 0: step_back-ward\n",
      "In update_status_apples: t_apples []\n",
      "a0 mov,a1 beam\n",
      "in get_new_pos, pl 0 cur_pos 0 7\n",
      "cur_dir,a 0 2\n",
      "new_x,new_y -1 -1.0 7 7.0\n",
      "out of box\n",
      "in move_and_update_apples, pl 0 pos 0 7\n",
      "s: 255\n",
      "sh gr (32,) (32,)\n",
      "pos_pl [0, 5] pos_opp [0, 7] gr_xs,gr_ys [ 1  2  3  4  5  6  7  8  9 10 11 12 13 14 15 16 17 18 19 20 21 22 23 24 25\n",
      " 26 27 28 29 30 31 32] [5 5 5 5 5 5 5 5 5 5 5 5 5 5 5 5 5 5 5 5 5 5 5 5 5 5 5 5 5 5 5 5]\n"
     ]
    },
    {
     "data": {
      "image/png": "[encoded data removed]",
      "text/plain": [
       "<matplotlib.figure.Figure at 0x7f1cda3aea58>"
      ]
     },
     "metadata": {},
     "output_type": "display_data"
    },
    {
     "name": "stdout",
     "output_type": "stream",
     "text": [
      "Direction 0: right\n",
      "Direction 1: right\n",
      "Time 1\n",
      "Action 0: rotate_right\n",
      "Action 1: rotate_left\n",
      "In update_status_apples: t_apples []\n",
      "a0 rot,a1 rot\n"
     ]
    },
    {
     "data": {
      "image/png": "[encoded data removed]",
      "text/plain": [
       "<matplotlib.figure.Figure at 0x7f1cda11f3c8>"
      ]
     },
     "metadata": {},
     "output_type": "display_data"
    },
    {
     "name": "stdout",
     "output_type": "stream",
     "text": [
      "Direction 0: down\n",
      "Direction 1: up\n",
      "Time 2\n",
      "Action 0: step_right\n",
      "Action 1: rotate_right\n",
      "In update_status_apples: t_apples []\n",
      "a0 mov,a1 rot\n",
      "in get_new_pos, pl 0 cur_pos 0 7\n",
      "cur_dir,a 3 3\n",
      "new_x,new_y -1 -1.0 7 7.0\n",
      "out of box\n",
      "in move_and_update_apples, pl 0 pos 0 7\n",
      "s: 255\n"
     ]
    },
    {
     "data": {
      "image/png": "[encoded data removed]",
      "text/plain": [
       "<matplotlib.figure.Figure at 0x7f1cda13d6a0>"
      ]
     },
     "metadata": {},
     "output_type": "display_data"
    },
    {
     "name": "stdout",
     "output_type": "stream",
     "text": [
      "Direction 1: right\n",
      "Direction 0: down\n",
      "Time 3\n",
      "Action 0: step_back-ward\n",
      "Action 1: rotate_left\n",
      "In update_status_apples: t_apples []\n",
      "a0 mov,a1 rot\n",
      "in get_new_pos, pl 0 cur_pos 0 7\n",
      "cur_dir,a 3 2\n",
      "new_x,new_y 0 3.06161699787e-16 8 8.0\n",
      "in move_and_update_apples, pl 0 pos 0 7\n",
      "s: 255\n"
     ]
    },
    {
     "data": {
      "image/png": "[encoded data removed]",
      "text/plain": [
       "<matplotlib.figure.Figure at 0x7f1cda3c6b38>"
      ]
     },
     "metadata": {},
     "output_type": "display_data"
    },
    {
     "name": "stdout",
     "output_type": "stream",
     "text": [
      "Direction 0: down\n",
      "Direction 1: up\n",
      "Time 4\n",
      "Action 0: step_left\n",
      "Action 1: step_forward\n",
      "In update_status_apples: t_apples []\n",
      "a0,a1 mov\n",
      "in get_new_pos, pl 0 cur_pos 0 8\n",
      "cur_dir,a 3 1\n",
      "new_x,new_y 1 1.0 8 8.0\n",
      "in get_new_pos, pl 1 cur_pos 0 5\n",
      "cur_dir,a 1 0\n",
      "new_x,new_y 0 6.12323399574e-17 6 6.0\n",
      "in move_and_update_apples, pl 0 pos 0 8\n",
      "s: 255\n",
      "in move_and_update_apples, pl 1 pos 0 5\n",
      "s: 255\n"
     ]
    },
    {
     "data": {
      "image/png": "[encoded data removed]",
      "text/plain": [
       "<matplotlib.figure.Figure at 0x7f1cda3e9780>"
      ]
     },
     "metadata": {},
     "output_type": "display_data"
    },
    {
     "name": "stdout",
     "output_type": "stream",
     "text": [
      "Direction 0: down\n",
      "Direction 1: up\n"
     ]
    }
   ],
   "source": [
    "random_actions()"
   ]
  },
  {
   "cell_type": "markdown",
   "metadata": {},
   "source": [
    "## DQN class\n",
    "\n",
    "Just take it from [2]"
   ]
  },
  {
   "cell_type": "code",
   "execution_count": 15,
   "metadata": {
    "collapsed": true
   },
   "outputs": [],
   "source": [
    "# Helper function that compute the output of a cross correlation\n",
    "def dim_out(dim_in,ks,stride):\n",
    "    return math.floor((dim_in-ks)/stride+1)\n",
    "\n",
    "class DQN(nn.Module):\n",
    "        \n",
    "    def __init__(self, hp):\n",
    "        \"\"\"hp = hyperparameters, dictionary\"\"\"\n",
    "        super(DQN, self).__init__()\n",
    "        # Conv2D has arguments C_in, C_out, ... where C_in is the number of input channels and C_out that of\n",
    "        # output channels, not to be confused with the size of the image at input and output which is automatically\n",
    "        # computed given the input and the kernel_size. \n",
    "        # Further, in the help, (N,C,H,W) are resp. number of samples, number of channels, height, width.\n",
    "        # Note: that instead nn.Linear requires both number of input and output neurons. The reason is that\n",
    "        # conv2d only has parameters in the kernel, which is independent of the number of neurons.\n",
    "        # Note: we do not use any normalization layer\n",
    "        self.C_H = hp['C_H']\n",
    "        ks = hp['kernel_size']\n",
    "        stride = hp['stride']\n",
    "        self.conv1 = nn.Conv2d(hp['C_in'], self.C_H, kernel_size=ks, stride=stride)\n",
    "        self.H1 = dim_out(hp['H'],ks,stride)\n",
    "        self.W1 = dim_out(hp['W'],ks,stride)\n",
    "        in_size = self.C_H*self.W1*self.H1\n",
    "        self.lin1 = nn.Linear(in_size, in_size) #lots of parameters!\n",
    "        self.conv2 = nn.Conv2d(self.C_H, self.C_H, kernel_size=ks, stride=stride)\n",
    "        H2 = dim_out(self.H1,ks,stride)\n",
    "        W2 = dim_out(self.W1,ks,stride)\n",
    "        in_size = self.C_H*W2*H2\n",
    "        self.lin2 = nn.Linear(in_size, hp['C_out'])\n",
    "\n",
    "    def forward(self, x):\n",
    "        # Apply rectified unit (relu) after each layer\n",
    "        x = F.relu(self.conv1(x))\n",
    "        # to feed into self.lin. we reshape x has a (size(0), rest) tensor where size(0) is number samples.\n",
    "        # -1 tells it to infer size automatically.\n",
    "        x = x.view(x.size(0), -1) \n",
    "        x = F.relu(self.lin1(x))\n",
    "        # reshape to feed it into conv2, this time:\n",
    "        x = x.view(x.size(0), self.C_H, self.H1, self.W1) \n",
    "        x = F.relu(self.conv2(x))\n",
    "        # reshape to feed it into lin2, this time:\n",
    "        x = x.view(x.size(0), -1)\n",
    "        x = F.relu(self.lin2(x))    \n",
    "        return x"
   ]
  },
  {
   "cell_type": "code",
   "execution_count": 25,
   "metadata": {},
   "outputs": [
    {
     "name": "stdout",
     "output_type": "stream",
     "text": [
      "torch.Size([32, 3, 5, 5])\n",
      "torch.Size([32])\n",
      "torch.Size([1728, 1728])\n",
      "torch.Size([1728])\n",
      "torch.Size([32, 32, 5, 5])\n",
      "torch.Size([32])\n",
      "torch.Size([8, 96])\n",
      "torch.Size([8])\n",
      "\n",
      "1.00000e-02 *\n",
      "  8.5398  0.8447  0.0000  0.0000  0.0000  0.0000  0.2926  0.0000\n",
      "  4.0045  0.0000  0.0000  0.0000  2.3897  0.0000  0.0000  0.0000\n",
      "  8.5108  0.2332  0.0000  0.0000  0.0000  0.0000  1.9343  0.0000\n",
      "[torch.FloatTensor of size 3x8]\n",
      "\n",
      "(\n",
      "1.00000e-02 *\n",
      "  8.5398\n",
      "  4.0045\n",
      "  8.5108\n",
      "[torch.FloatTensor of size 3x1]\n",
      ", \n",
      " 0\n",
      " 0\n",
      " 0\n",
      "[torch.LongTensor of size 3x1]\n",
      ")\n",
      "\n",
      " 0\n",
      " 0\n",
      " 0\n",
      "[torch.LongTensor of size 3x1]\n",
      "\n"
     ]
    }
   ],
   "source": [
    "# TEST of DQN\n",
    "\n",
    "hp = {}\n",
    "hp['C_in'] = 3 # for RGB\n",
    "hp['C_H'] = 32 # number of hidden units (or channels)\n",
    "hp['C_out'] = 8 # number of actions.\n",
    "hp['kernel_size'] = 5 \n",
    "hp['stride'] = 2\n",
    "# width and height of observation region\n",
    "hp['W'] = 21\n",
    "hp['H'] = 16\n",
    "\n",
    "#print(dim_out(dim_out(30,5,2),5,2))\n",
    "\n",
    "model_test = DQN(hp)\n",
    "for p in model_test.parameters():\n",
    "    print(p.size())\n",
    "\n",
    "# test with a random batch of N samples\n",
    "N = 3\n",
    "x_test = autograd.Variable(torch.randn(N, 3, hp['H'], hp['W']))\n",
    "y_pred = model_test(x_test)\n",
    "print(y_pred.data)\n",
    "print(y_pred.data.max(1))\n",
    "print(y_pred.data.max(1)[1].cpu())\n",
    "\n",
    "#print(\"y : \",y_pred.data.size())\n",
    "#print(y_pred[0,:])"
   ]
  },
  {
   "cell_type": "code",
   "execution_count": 27,
   "metadata": {
    "scrolled": true
   },
   "outputs": [
    {
     "name": "stdout",
     "output_type": "stream",
     "text": [
      "Help on class Variable in module torch.autograd.variable:\n",
      "\n",
      "class Variable(torch._C._VariableBase)\n",
      " |  Wraps a tensor and records the operations applied to it.\n",
      " |  \n",
      " |  Variable is a thin wrapper around a Tensor object, that also holds\n",
      " |  the gradient w.r.t. to it, and a reference to a function that created it.\n",
      " |  This reference allows retracing the whole chain of operations that\n",
      " |  created the data. If the Variable has been created by the user, its creator\n",
      " |  will be ``None`` and we call such objects *leaf* Variables.\n",
      " |  \n",
      " |  Since autograd only supports scalar valued function differentiation, grad\n",
      " |  size always matches the data size. Also, grad is normally only allocated\n",
      " |  for leaf variables, and will be always zero otherwise.\n",
      " |  \n",
      " |  Attributes:\n",
      " |      data: Wrapped tensor of any type.\n",
      " |      grad: Variable holding the gradient of type and location matching\n",
      " |          the ``.data``.  This attribute is lazily allocated and can't\n",
      " |          be reassigned.\n",
      " |      requires_grad: Boolean indicating whether the Variable has been\n",
      " |          created by a subgraph containing any Variable, that requires it.\n",
      " |          See :ref:`excluding-subgraphs` for more details.\n",
      " |          Can be changed only on leaf Variables.\n",
      " |      volatile: Boolean indicating that the Variable should be used in\n",
      " |          inference mode, i.e. don't save the history. See\n",
      " |          :ref:`excluding-subgraphs` for more details.\n",
      " |          Can be changed only on leaf Variables.\n",
      " |      creator: Function of which the variable was an output. For leaf\n",
      " |          (user created) variables it's ``None``. Read-only attribute.\n",
      " |  \n",
      " |  Parameters:\n",
      " |      data (any tensor class): Tensor to wrap.\n",
      " |      requires_grad (bool): Value of the requires_grad flag. **Keyword only.**\n",
      " |      volatile (bool): Value of the volatile flag. **Keyword only.**\n",
      " |  \n",
      " |  Method resolution order:\n",
      " |      Variable\n",
      " |      torch._C._VariableBase\n",
      " |      builtins.object\n",
      " |  \n",
      " |  Methods defined here:\n",
      " |  \n",
      " |  __add__(self, other)\n",
      " |  \n",
      " |  __deepcopy__(self, memo)\n",
      " |  \n",
      " |  __div__(self, other)\n",
      " |  \n",
      " |  __eq__(self, other)\n",
      " |      Return self==value.\n",
      " |  \n",
      " |  __ge__(self, other)\n",
      " |      Return self>=value.\n",
      " |  \n",
      " |  __getattr__(self, name)\n",
      " |  \n",
      " |  __getitem__(self, key)\n",
      " |  \n",
      " |  __gt__(self, other)\n",
      " |      Return self>value.\n",
      " |  \n",
      " |  __hash__(self)\n",
      " |      Return hash(self).\n",
      " |  \n",
      " |  __iadd__(self, other)\n",
      " |  \n",
      " |  __idiv__(self, other)\n",
      " |  \n",
      " |  __imul__(self, other)\n",
      " |  \n",
      " |  __ipow__(self, other)\n",
      " |  \n",
      " |  __isub__(self, other)\n",
      " |  \n",
      " |  __iter__(self)\n",
      " |  \n",
      " |  __le__(self, other)\n",
      " |      Return self<=value.\n",
      " |  \n",
      " |  __len__(self)\n",
      " |  \n",
      " |  __lt__(self, other)\n",
      " |      Return self<value.\n",
      " |  \n",
      " |  __matmul__(self, other)\n",
      " |  \n",
      " |  __mod__(self, other)\n",
      " |  \n",
      " |  __mul__(self, other)\n",
      " |  \n",
      " |  __ne__(self, other)\n",
      " |      Return self!=value.\n",
      " |  \n",
      " |  __neg__(self)\n",
      " |  \n",
      " |  __pow__(self, other)\n",
      " |  \n",
      " |  __radd__ = __add__(self, other)\n",
      " |  \n",
      " |  __rdiv__(self, other)\n",
      " |  \n",
      " |  __reduce_ex__(self, proto)\n",
      " |      helper for pickle\n",
      " |  \n",
      " |  __repr__(self)\n",
      " |      Return repr(self).\n",
      " |  \n",
      " |  __rmul__ = __mul__(self, other)\n",
      " |  \n",
      " |  __rpow__(self, other)\n",
      " |  \n",
      " |  __rsub__(self, other)\n",
      " |  \n",
      " |  __rtruediv__ = __rdiv__(self, other)\n",
      " |  \n",
      " |  __setitem__(self, key, value)\n",
      " |  \n",
      " |  __setstate__(self, state)\n",
      " |  \n",
      " |  __sub__(self, other)\n",
      " |  \n",
      " |  __truediv__ = __div__(self, other)\n",
      " |  \n",
      " |  abs(self)\n",
      " |  \n",
      " |  acos(self)\n",
      " |  \n",
      " |  add(self, other)\n",
      " |  \n",
      " |  add_(self, other)\n",
      " |  \n",
      " |  addbmm(self, *args)\n",
      " |  \n",
      " |  addbmm_(self, *args)\n",
      " |  \n",
      " |  addcdiv(self, *args)\n",
      " |  \n",
      " |  addcmul(self, *args)\n",
      " |  \n",
      " |  addmm(self, *args)\n",
      " |  \n",
      " |  addmm_(self, *args)\n",
      " |  \n",
      " |  addmv(self, *args)\n",
      " |  \n",
      " |  addmv_(self, *args)\n",
      " |  \n",
      " |  addr(self, *args)\n",
      " |  \n",
      " |  addr_(self, *args)\n",
      " |  \n",
      " |  asin(self)\n",
      " |  \n",
      " |  atan(self)\n",
      " |  \n",
      " |  backward(self, gradient=None, retain_variables=False)\n",
      " |      Computes the gradient of current variable w.r.t. graph leaves.\n",
      " |      \n",
      " |      The graph is differentiated using the chain rule. If the variable is\n",
      " |      non-scalar (i.e. its data has more than one element) and requires\n",
      " |      gradient, the function additionaly requires specifying ``gradient``.\n",
      " |      It should be a tensor of matching type and location, that contains\n",
      " |      the gradient of the differentiated function w.r.t. ``self``.\n",
      " |      \n",
      " |      This function accumulates gradients in the leaves - you might need to zero\n",
      " |      them before calling it.\n",
      " |      \n",
      " |      Arguments:\n",
      " |          gradient (Tensor): Gradient of the differentiated function\n",
      " |              w.r.t. the data. Required only if the data has more than one\n",
      " |              element. Type and location should match these of ``self.data``.\n",
      " |          retain_variables (bool): If ``True``, buffers necessary for computing\n",
      " |              gradients won't be freed after use. It is only necessary to\n",
      " |              specify ``True`` if you want to differentiate some subgraph multiple\n",
      " |              times (in some cases it will be much more efficient to use\n",
      " |              `autograd.backward`).\n",
      " |  \n",
      " |  baddbmm(self, *args)\n",
      " |  \n",
      " |  baddbmm_(self, *args)\n",
      " |  \n",
      " |  bernoulli(self)\n",
      " |  \n",
      " |  bmm(self, batch)\n",
      " |  \n",
      " |  byte(self)\n",
      " |  \n",
      " |  ceil(self)\n",
      " |  \n",
      " |  char(self)\n",
      " |  \n",
      " |  chunk(self, num_chunks, dim=0)\n",
      " |  \n",
      " |  clamp(self, min=None, max=None)\n",
      " |  \n",
      " |  clone(self)\n",
      " |  \n",
      " |  contiguous(self)\n",
      " |  \n",
      " |  cos(self)\n",
      " |  \n",
      " |  cosh(self)\n",
      " |  \n",
      " |  cpu(self)\n",
      " |  \n",
      " |  cross(self, other, dim=-1)\n",
      " |  \n",
      " |  cuda(self, device_id=None, async=False)\n",
      " |  \n",
      " |  cumsum(self, dim)\n",
      " |  \n",
      " |  detach(self)\n",
      " |      Returns a new Variable, detached from the current graph.\n",
      " |      \n",
      " |      Result will never require gradient. If the input is volatile, the output\n",
      " |      will be volatile too.\n",
      " |      \n",
      " |      .. note::\n",
      " |      \n",
      " |        Returned Variable uses the same data tensor, as the original one, and\n",
      " |        in-place modifications on either of them will be seen, and may trigger\n",
      " |        errors in correctness checks.\n",
      " |  \n",
      " |  detach_(self)\n",
      " |      Detaches the Variable from the graph that created it, making it a leaf.\n",
      " |  \n",
      " |  diag(self, diagonal_idx=0)\n",
      " |  \n",
      " |  dist(self, tensor, norm_type=2)\n",
      " |  \n",
      " |  div(self, other)\n",
      " |  \n",
      " |  div_(self, other)\n",
      " |  \n",
      " |  dot(self, other)\n",
      " |  \n",
      " |  double(self)\n",
      " |  \n",
      " |  eq(self, other)\n",
      " |  \n",
      " |  exp(self)\n",
      " |  \n",
      " |  exp_(self)\n",
      " |  \n",
      " |  expand(self, *sizes)\n",
      " |  \n",
      " |  expand_as(self, tensor)\n",
      " |  \n",
      " |  float(self)\n",
      " |  \n",
      " |  floor(self)\n",
      " |  \n",
      " |  fmod(self, value)\n",
      " |  \n",
      " |  frac(self)\n",
      " |  \n",
      " |  gather(self, dim, index)\n",
      " |  \n",
      " |  ge(self, other)\n",
      " |  \n",
      " |  ger(self, vector)\n",
      " |  \n",
      " |  gt(self, other)\n",
      " |  \n",
      " |  half(self)\n",
      " |  \n",
      " |  index_add(self, dim, index, tensor)\n",
      " |  \n",
      " |  index_add_(self, dim, index, tensor)\n",
      " |  \n",
      " |  index_copy(self, dim, index, tensor)\n",
      " |  \n",
      " |  index_copy_(self, dim, index, tensor)\n",
      " |  \n",
      " |  index_fill(self, dim, index, value)\n",
      " |  \n",
      " |  index_fill_(self, dim, index, value)\n",
      " |  \n",
      " |  index_select(self, dim, index)\n",
      " |  \n",
      " |  int(self)\n",
      " |  \n",
      " |  is_same_size(self, other_var)\n",
      " |  \n",
      " |  kthvalue(self, dim)\n",
      " |  \n",
      " |  le(self, other)\n",
      " |  \n",
      " |  lerp(self, tensor, weight)\n",
      " |  \n",
      " |  log(self)\n",
      " |  \n",
      " |  log1p(self)\n",
      " |  \n",
      " |  long(self)\n",
      " |  \n",
      " |  lt(self, other)\n",
      " |  \n",
      " |  masked_copy(self, mask, variable)\n",
      " |  \n",
      " |  masked_copy_(self, mask, variable)\n",
      " |  \n",
      " |  masked_fill(self, mask, value)\n",
      " |  \n",
      " |  masked_fill_(self, mask, value)\n",
      " |  \n",
      " |  masked_select(self, mask)\n",
      " |  \n",
      " |  max(self, dim=None)\n",
      " |  \n",
      " |  mean(self, dim=None)\n",
      " |  \n",
      " |  median(self, dim)\n",
      " |  \n",
      " |  min(self, dim=None)\n",
      " |  \n",
      " |  mm(self, matrix)\n",
      " |  \n",
      " |  mode(self, dim)\n",
      " |  \n",
      " |  mul(self, other)\n",
      " |  \n",
      " |  mul_(self, other)\n",
      " |  \n",
      " |  multinomial(self, num_samples=1, with_replacement=False)\n",
      " |  \n",
      " |  mv(self, vector)\n",
      " |  \n",
      " |  narrow(self, dim, start_index, length)\n",
      " |  \n",
      " |  ne(self, other)\n",
      " |  \n",
      " |  neg(self)\n",
      " |  \n",
      " |  neg_(self)\n",
      " |  \n",
      " |  norm(self, norm_type=2, dim=None)\n",
      " |  \n",
      " |  permute(self, *permutation)\n",
      " |  \n",
      " |  pow(self, other)\n",
      " |  \n",
      " |  prod(self, dim=None)\n",
      " |  \n",
      " |  reciprocal(self)\n",
      " |  \n",
      " |  register_hook(self, hook)\n",
      " |      Registers a backward hook.\n",
      " |      \n",
      " |      The hook will be called every time a gradient with respect to the\n",
      " |      variable is computed. The hook should have the following signature::\n",
      " |      \n",
      " |          hook(grad) -> Variable or None\n",
      " |      \n",
      " |      The hook should not modify its argument, but it can optionally return\n",
      " |      a new gradient which will be used in place of :attr:`grad`.\n",
      " |      \n",
      " |      This function returns a handle with a method ``handle.remove()``\n",
      " |      that removes the hook from the module.\n",
      " |      \n",
      " |      Example:\n",
      " |          >>> v = Variable(torch.Tensor([0, 0, 0]), requires_grad=True)\n",
      " |          >>> h = v.register_hook(lambda grad: grad * 2)  # double the gradient\n",
      " |          >>> v.backward(torch.Tensor([1, 1, 1]))\n",
      " |          >>> v.grad.data\n",
      " |           2\n",
      " |           2\n",
      " |           2\n",
      " |          [torch.FloatTensor of size 3]\n",
      " |          >>> h.remove()  # removes the hook\n",
      " |  \n",
      " |  reinforce(self, reward)\n",
      " |      Registers a reward obtained as a result of a stochastic process.\n",
      " |      \n",
      " |      Differentiating stochastic nodes requires providing them with reward\n",
      " |      value. If your graph contains any stochastic operations, you should\n",
      " |      call this function on their outputs. Otherwise an error will be raised.\n",
      " |      \n",
      " |      Parameters:\n",
      " |          reward(Tensor): Tensor with per-element rewards. It has to match\n",
      " |              the device location and shape of Variable's data.\n",
      " |  \n",
      " |  remainder(self, value)\n",
      " |  \n",
      " |  renorm(self, norm_type, dim, maxnorm)\n",
      " |  \n",
      " |  repeat(self, *repeats)\n",
      " |  \n",
      " |  resize(self, *sizes)\n",
      " |  \n",
      " |  resize_as(self, variable)\n",
      " |  \n",
      " |  round(self)\n",
      " |  \n",
      " |  rsqrt(self)\n",
      " |  \n",
      " |  scatter(self, dim, index, source)\n",
      " |  \n",
      " |  scatter_(self, dim, index, source)\n",
      " |  \n",
      " |  select(self, dim, _index)\n",
      " |  \n",
      " |  short(self)\n",
      " |  \n",
      " |  sigmoid(self)\n",
      " |  \n",
      " |  sigmoid_(self)\n",
      " |  \n",
      " |  sign(self)\n",
      " |  \n",
      " |  sin(self)\n",
      " |  \n",
      " |  sinh(self)\n",
      " |  \n",
      " |  sort(self, dim=None, descending=False)\n",
      " |  \n",
      " |  split(self, split_size, dim=0)\n",
      " |  \n",
      " |  sqrt(self)\n",
      " |  \n",
      " |  squeeze(self, dim=None)\n",
      " |  \n",
      " |  std(self, dim=None, unbiased=True)\n",
      " |  \n",
      " |  sub(self, other)\n",
      " |  \n",
      " |  sub_(self, other)\n",
      " |  \n",
      " |  sum(self, dim=None)\n",
      " |  \n",
      " |  t(self)\n",
      " |  \n",
      " |  tan(self)\n",
      " |  \n",
      " |  tanh(self)\n",
      " |  \n",
      " |  tanh_(self)\n",
      " |  \n",
      " |  topk(self, k, dim=None, largest=True, sorted=True)\n",
      " |  \n",
      " |  trace(self)\n",
      " |  \n",
      " |  transpose(self, dim1, dim2)\n",
      " |  \n",
      " |  tril(self, diagonal_idx=0)\n",
      " |  \n",
      " |  triu(self, diagonal_idx=0)\n",
      " |  \n",
      " |  trunc(self)\n",
      " |  \n",
      " |  type(self, t)\n",
      " |  \n",
      " |  unsqueeze(self, dim)\n",
      " |  \n",
      " |  var(self, dim=None, unbiased=True)\n",
      " |  \n",
      " |  view(self, *sizes)\n",
      " |  \n",
      " |  view_as(self, tensor)\n",
      " |  \n",
      " |  ----------------------------------------------------------------------\n",
      " |  Data descriptors defined here:\n",
      " |  \n",
      " |  __dict__\n",
      " |      dictionary for instance variables (if defined)\n",
      " |  \n",
      " |  __weakref__\n",
      " |      list of weak references to the object (if defined)\n",
      " |  \n",
      " |  ----------------------------------------------------------------------\n",
      " |  Methods inherited from torch._C._VariableBase:\n",
      " |  \n",
      " |  __init__(self, /, *args, **kwargs)\n",
      " |      Initialize self.  See help(type(self)) for accurate signature.\n",
      " |  \n",
      " |  __new__(*args, **kwargs) from builtins.type\n",
      " |      Create and return a new object.  See help(type) for accurate signature.\n",
      " |  \n",
      " |  ----------------------------------------------------------------------\n",
      " |  Data descriptors inherited from torch._C._VariableBase:\n",
      " |  \n",
      " |  creator\n",
      " |  \n",
      " |  data\n",
      " |  \n",
      " |  grad\n",
      " |  \n",
      " |  output_nr\n",
      " |  \n",
      " |  requires_grad\n",
      " |  \n",
      " |  volatile\n",
      "\n"
     ]
    }
   ],
   "source": [
    "help(autograd.Variable)"
   ]
  },
  {
   "cell_type": "markdown",
   "metadata": {},
   "source": [
    "### Experience replay memory\n",
    "\n",
    "This will be used during the training when the loss function to be minimized will be averaged over a minibatch (sample) of experiences drawn randomly from the replay_memory .memory object using method .sample"
   ]
  },
  {
   "cell_type": "code",
   "execution_count": 13,
   "metadata": {
    "collapsed": true
   },
   "outputs": [],
   "source": [
    "# namedtuple: tuple subclass with elements accessible by name with . operator (here name class=name instance)\n",
    "# e_t = (s_t, a_t, r_t, s_{t+1})\n",
    "# globally defined and used by replay_memory\n",
    "experience = namedtuple('Experience',\n",
    "                        ('state', 'action', 'reward', 'next_state'))\n",
    "\n",
    "class replay_memory(object):\n",
    "    \"\"\"\n",
    "    A cyclic buffer of bounded size that holds the transitions observed recently. \n",
    "    It also implements a .sample() method for selecting a random batch of transitions for training.\n",
    "    \"\"\"\n",
    "    def __init__(self, capacity):\n",
    "        self.capacity = capacity\n",
    "        self.memory = []\n",
    "        self.position = 0\n",
    "\n",
    "    def push(self, *args):\n",
    "        \"\"\"Saves a transition.\"\"\"\n",
    "        if len(self.memory) < self.capacity:\n",
    "            self.memory.append(None)\n",
    "        self.memory[self.position] = experience(*args)\n",
    "        # cyclicity:\n",
    "        self.position = (self.position + 1) % self.capacity\n",
    "\n",
    "    def sample(self, batch_size):\n",
    "        return random.sample(self.memory, batch_size)\n",
    "\n",
    "    def __len__(self):\n",
    "        return len(self.memory)"
   ]
  },
  {
   "cell_type": "markdown",
   "metadata": {},
   "source": [
    "### Policy: epsilon greedy."
   ]
  },
  {
   "cell_type": "code",
   "execution_count": 9,
   "metadata": {
    "collapsed": true
   },
   "outputs": [],
   "source": [
    "def eps_decay(eps_start, eps_end, gamma, t):\n",
    "    \"\"\"Returns the value of eps at time t according to epsilon decay from eps_start \n",
    "    to eps_end with decay rate gamma\"\"\"\n",
    "    ret = eps_threshold = eps_end + \\\n",
    "        (eps_start - eps_end) * np.exp(-1. * t / gamma)\n",
    "    return ret\n",
    "\n",
    "def policy(model, obs, n_actions, eps):\n",
    "    \"\"\"epsilon-greedy policy. Input:\n",
    "    model : nn approximator for Q, \n",
    "    obs : an observation, tensor below promoted to autograd.Variable \n",
    "    n_action : the number of possible actions (gathering, = 8)\n",
    "    t : time.\n",
    "    Returns an action.\"\"\"\n",
    "    assert(0 <= eps <= 1)\n",
    "    random_num = random.random()\n",
    "    if sample > eps:\n",
    "        # to be adjusted eventually. \n",
    "        # volatile: Boolean indicating that the Variable should be used in\n",
    "        # inference mode, i.e. don't save the history. See\n",
    "        # :ref:`excluding-subgraphs` for more details.\n",
    "        # Can be changed only on leaf Variables.\n",
    "        y_pred = model(autograd.Variable(obs, volatile=True))\n",
    "        # data.max(1) returns an array with 0 component the maximum values for each sample in the batch\n",
    "        # and 1 component their indices, which is selected here.\n",
    "        return y_pred.data.max(1)[1].cpu()\n",
    "    else:\n",
    "        return torch.LongTensor([[random.randrange(n_actions)]])"
   ]
  },
  {
   "cell_type": "markdown",
   "metadata": {},
   "source": [
    "### Initialization"
   ]
  },
  {
   "cell_type": "code",
   "execution_count": 17,
   "metadata": {},
   "outputs": [],
   "source": [
    "# parameters \n",
    "game_pars={}\n",
    "game_pars['N_apples']=2\n",
    "game_pars['N_tagged']=5\n",
    "# local vars, should not be changed\n",
    "game_pars['W'] = 33 # Width, always odd\n",
    "game_pars['H'] = 11 # Height, always odd\n",
    "game_pars['size_obs_ahead'] = 15 # number of sites the players can see in front of them\n",
    "game_pars['size_obs_side'] = 10 # number of sites the players can see on their side\n",
    "\n",
    "# and hyper-parameters\n",
    "hp = {}\n",
    "hp['C_in'] = 3 # for RGB\n",
    "hp['C_H'] = 32 # number of hidden units (or channels)\n",
    "hp['C_out'] = 8 # number of actions.\n",
    "hp['kernel_size'] = 5 \n",
    "hp['stride'] = 2\n",
    "hp['H'] = 30\n",
    "hp['W'] = 15\n",
    "\n",
    "# eps for policy\n",
    "eps_start = 0.9\n",
    "eps_end = 0.05\n",
    "decay_rate = 200\n",
    "# for replay_memory\n",
    "capacity = 1\n",
    "\n",
    "#\n",
    "# Now init the variables\n",
    "#\n",
    "\n",
    "# Q function approximators for player 0 and 1\n",
    "Q_0 = DQN(hp)\n",
    "Q_1 = DQN(hp)\n",
    "memory_0 = replay_memory(capacity)\n",
    "memory_1 = replay_memory(capacity)\n",
    "\n",
    "# game definition\n",
    "game = gathering_game(game_pars)\n",
    "obs_0 = game.obs_0\n",
    "obs_1 = game.obs_1"
   ]
  },
  {
   "cell_type": "code",
   "execution_count": 18,
   "metadata": {
    "collapsed": true
   },
   "outputs": [],
   "source": [
    "# test of policy"
   ]
  },
  {
   "cell_type": "markdown",
   "metadata": {},
   "source": [
    "### Training loop"
   ]
  },
  {
   "cell_type": "code",
   "execution_count": null,
   "metadata": {
    "collapsed": true
   },
   "outputs": [],
   "source": [
    "# training loop over episodes\n",
    "for episode in range(M):\n",
    "    for t in range(T):\n",
    "        # policy \n",
    "        eps = eps_decay(eps_start, eps_end, decay_rate, t)\n",
    "        a_0 = policy(Q_0, obs_0, game.n_actions, eps)\n",
    "        a_1 = policy(Q_1, obs_1, game.n_actions, eps)\n",
    "        \n",
    "        # execute action in emulator\n",
    "        r_0, r_1 = game.transition_and_get_reward(a_0, a_1)\n",
    "        obs_0_p = game.obs_0\n",
    "        obs_1_p = game.obs_1\n",
    "        \n",
    "        # store experience\n",
    "        memory_0.push(obs_0, a_0, obs_0_p, r_0)\n",
    "        memory_1.push(obs_1, a_1, obs_1_p, r_1)\n",
    "        obs_0 = obs_0_p \n",
    "        obs_1 = obs_1_p \n",
    "        \n",
    "        # optimize\n",
    "        oprimize()"
   ]
  },
  {
   "cell_type": "markdown",
   "metadata": {},
   "source": [
    "### Optimize"
   ]
  },
  {
   "cell_type": "code",
   "execution_count": null,
   "metadata": {
    "collapsed": true
   },
   "outputs": [],
   "source": [
    "def optimize():\n",
    "    \"\"\"TODO: understand issue with volatile...\"\"\"\n",
    "    # if the memory is smaller than wanted, don't do anything and keep building memory\n",
    "    if len(memory) < BATCH_SIZE:\n",
    "        return\n",
    "    #otherwise get minibatch of experiences\n",
    "    experience_0 = memory_0.sample(BATCH_SIZE)\n",
    "    experience_1 = memory_1.sample(BATCH_SIZE)\n",
    "    # Transpose the batch (see http://stackoverflow.com/a/19343/3343043 for\n",
    "    # detailed explanation).\n",
    "    # batch = Transition(*zip(*transitions))\n",
    "    # get in some way\n",
    "    minibatch_0\n",
    "    minibatch_1 \n",
    "    # and the obs,action,next_obs,reward batches\n",
    "    \n",
    "    # Compute Q(o, a) -> o_a_values\n",
    "    # o_a_values_0 = Q_0(o_0)\n",
    "    # o_a_values_1 = Q_1(o_1)\n",
    "    \n",
    "    # Compute V(o')=max_a' Q(o', a') for all next states.\n",
    "    # max_op_values_0 = Q_0(op_0).max(1)[0]\n",
    "    # max_op_values_1 = Q_1(op_1).max(1)[0]\n",
    "    \n",
    "    # Compute y\n",
    "    y_0 = (max_op_values_0 * GAMMA) + reward_batch_0\n",
    "    y_1 = (max_op_values_1 * GAMMA) + reward_batch_1\n",
    "    \n",
    "    # Compute loss\n",
    "    # loss_fn = torch.nn.MSELoss(size_average=False)\n",
    "    loss_0 = loss_fn(y_0, o_a_values_0)\n",
    "    loss_1 = loss_fn(y_1, o_a_values_1)\n",
    "    \n",
    "    # Optimize the model\n",
    "    optimizer.zero_grad()\n",
    "    loss.backward()\n",
    "    for param in model.parameters():\n",
    "        param.grad.data.clamp_(-1, 1)\n",
    "    optimizer.step()"
   ]
  }
 ],
 "metadata": {
  "kernelspec": {
   "display_name": "Python 3",
   "language": "python",
   "name": "python3"
  },
  "language_info": {
   "codemirror_mode": {
    "name": "ipython",
    "version": 3
   },
   "file_extension": ".py",
   "mimetype": "text/x-python",
   "name": "python",
   "nbconvert_exporter": "python",
   "pygments_lexer": "ipython3",
   "version": "3.5.2+"
  }
 },
 "nbformat": 4,
 "nbformat_minor": 2
}
