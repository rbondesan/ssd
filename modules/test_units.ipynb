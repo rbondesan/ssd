{
 "cells": [
  {
   "cell_type": "markdown",
   "metadata": {},
   "source": [
    "# Unit testing"
   ]
  },
  {
   "cell_type": "code",
   "execution_count": 1,
   "metadata": {
    "collapsed": true
   },
   "outputs": [],
   "source": [
    "from importlib import reload"
   ]
  },
  {
   "cell_type": "code",
   "execution_count": 15,
   "metadata": {
    "collapsed": true
   },
   "outputs": [],
   "source": [
    "import matplotlib.pyplot as plt"
   ]
  },
  {
   "cell_type": "markdown",
   "metadata": {},
   "source": [
    "## gathering_game class"
   ]
  },
  {
   "cell_type": "code",
   "execution_count": 117,
   "metadata": {
    "collapsed": true
   },
   "outputs": [],
   "source": [
    "import gathering"
   ]
  },
  {
   "cell_type": "code",
   "execution_count": 118,
   "metadata": {},
   "outputs": [
    {
     "data": {
      "text/plain": [
       "<module 'gathering' from '/home/roby/ssd/modules/gathering.py'>"
      ]
     },
     "execution_count": 118,
     "metadata": {},
     "output_type": "execute_result"
    }
   ],
   "source": [
    "reload(gathering)"
   ]
  },
  {
   "cell_type": "code",
   "execution_count": 119,
   "metadata": {
    "collapsed": true
   },
   "outputs": [],
   "source": [
    "from gathering import gathering_game"
   ]
  },
  {
   "cell_type": "code",
   "execution_count": 132,
   "metadata": {
    "scrolled": true
   },
   "outputs": [
    {
     "name": "stdout",
     "output_type": "stream",
     "text": [
      "pars {'W': 33, 'size_obs_side': 10, 'N_tagged': 5, 'H': 11, 'size_obs_ahead': 15, 'gamma': 0.99, 'N_apples': 2}\n",
      "[0 0]\n",
      "(3, 33, 11)\n"
     ]
    },
    {
     "data": {
      "image/png": "[encoded data removed]",
      "text/plain": [
       "<matplotlib.figure.Figure at 0x7fe480daa518>"
      ]
     },
     "metadata": {},
     "output_type": "display_data"
    },
    {
     "name": "stdout",
     "output_type": "stream",
     "text": [
      "Direction 0: right\n",
      "Direction 1: right\n"
     ]
    }
   ],
   "source": [
    "# test gathering_game class. test init functions\n",
    "game_pars={}\n",
    "game_pars['gamma']=.99\n",
    "game_pars['N_apples']=2\n",
    "game_pars['N_tagged']=5\n",
    "# local vars, should not be changed\n",
    "game_pars['W'] = 33 # Width, always odd\n",
    "game_pars['H'] = 11 # Height, always odd\n",
    "game_pars['size_obs_ahead'] = 15 # number of sites the players can see in front of them\n",
    "game_pars['size_obs_side'] = 10 # number of sites the players can see on their side\n",
    "\n",
    "test_game = gathering_game(game_pars)\n",
    "print('pars',test_game.pars)\n",
    "print(test_game.dir)\n",
    "print(test_game.s.shape)\n",
    "test_game.show_screen(show=True)"
   ]
  },
  {
   "cell_type": "code",
   "execution_count": 133,
   "metadata": {},
   "outputs": [
    {
     "name": "stdout",
     "output_type": "stream",
     "text": [
      "In update_status_apples: t_apples []\n",
      "In update_tagged: t_tagged [-1, -1]\n",
      "a0 rot,a1 rot\n"
     ]
    },
    {
     "data": {
      "image/png": "[encoded data removed]",
      "text/plain": [
       "<matplotlib.figure.Figure at 0x7fe480d2c400>"
      ]
     },
     "metadata": {},
     "output_type": "display_data"
    },
    {
     "name": "stdout",
     "output_type": "stream",
     "text": [
      "Direction 0: down\n",
      "Direction 1: down\n",
      "In update_status_apples: t_apples []\n",
      "In update_tagged: t_tagged [-1, -1]\n",
      "a0 rot,a1 mov\n"
     ]
    },
    {
     "data": {
      "image/png": "[encoded data removed]",
      "text/plain": [
       "<matplotlib.figure.Figure at 0x7fe480bf9470>"
      ]
     },
     "metadata": {},
     "output_type": "display_data"
    },
    {
     "name": "stdout",
     "output_type": "stream",
     "text": [
      "Direction 0: down\n",
      "Direction 1: down\n",
      "In update_status_apples: t_apples []\n",
      "In update_tagged: t_tagged [-1, -1]\n",
      "a0 rot,a1 mov\n"
     ]
    },
    {
     "data": {
      "image/png": "[encoded data removed]",
      "text/plain": [
       "<matplotlib.figure.Figure at 0x7fe480e54d68>"
      ]
     },
     "metadata": {},
     "output_type": "display_data"
    },
    {
     "name": "stdout",
     "output_type": "stream",
     "text": [
      "Direction 0: down\n",
      "Direction 1: down\n",
      "In update_status_apples: t_apples []\n",
      "In update_tagged: t_tagged [-1, -1]\n",
      "a0 rot,a1 mov\n"
     ]
    },
    {
     "data": {
      "image/png": "[encoded data removed]",
      "text/plain": [
       "<matplotlib.figure.Figure at 0x7fe480b22240>"
      ]
     },
     "metadata": {},
     "output_type": "display_data"
    },
    {
     "name": "stdout",
     "output_type": "stream",
     "text": [
      "Direction 0: down\n",
      "Direction 1: down\n",
      "In update_status_apples: t_apples []\n",
      "In update_tagged: t_tagged [-1, -1]\n",
      "a0 rot,a1 mov\n"
     ]
    },
    {
     "data": {
      "image/png": "[encoded data removed]",
      "text/plain": [
       "<matplotlib.figure.Figure at 0x7fe480e0f7b8>"
      ]
     },
     "metadata": {},
     "output_type": "display_data"
    },
    {
     "name": "stdout",
     "output_type": "stream",
     "text": [
      "Direction 0: down\n",
      "Direction 1: down\n",
      "In update_status_apples: t_apples []\n",
      "In update_tagged: t_tagged [-1, -1]\n",
      "a0 rot,a1 mov\n"
     ]
    },
    {
     "data": {
      "image/png": "[encoded data removed]",
      "text/plain": [
       "<matplotlib.figure.Figure at 0x7fe480df91d0>"
      ]
     },
     "metadata": {},
     "output_type": "display_data"
    },
    {
     "name": "stdout",
     "output_type": "stream",
     "text": [
      "Direction 0: down\n",
      "Direction 1: down\n"
     ]
    }
   ],
   "source": [
    "# s_t, a_{0,t}, a_{1,t}, s_{t+1}\n",
    "#r0,r1=test_game.transition_and_get_reward(test_game.actions_dict['stand_still'], test_game.actions_dict['rotate_right'])\n",
    "#test_game.show_screen(show=True)\n",
    "#\n",
    "r0,r1=test_game.transition_and_get_reward(test_game.actions_dict['rotate_right'], test_game.actions_dict['rotate_right'])\n",
    "test_game.show_screen(show=True)\n",
    "r0,r1=test_game.transition_and_get_reward(test_game.actions_dict['stand_still'], test_game.actions_dict['step_forward'])\n",
    "test_game.show_screen(show=True)\n",
    "r0,r1=test_game.transition_and_get_reward(test_game.actions_dict['stand_still'], test_game.actions_dict['step_forward'])\n",
    "test_game.show_screen(show=True)\n",
    "r0,r1=test_game.transition_and_get_reward(test_game.actions_dict['stand_still'], test_game.actions_dict['step_forward'])\n",
    "test_game.show_screen(show=True)\n",
    "r0,r1=test_game.transition_and_get_reward(test_game.actions_dict['stand_still'], test_game.actions_dict['step_forward'])\n",
    "test_game.show_screen(show=True)\n",
    "r0,r1=test_game.transition_and_get_reward(test_game.actions_dict['stand_still'], test_game.actions_dict['step_forward'])\n",
    "test_game.show_screen(show=True)"
   ]
  },
  {
   "cell_type": "code",
   "execution_count": 134,
   "metadata": {},
   "outputs": [
    {
     "name": "stdout",
     "output_type": "stream",
     "text": [
      "In update_status_apples: t_apples []\n",
      "In update_tagged: t_tagged [-1, -1]\n",
      "a0 rot,a1 rot\n",
      "In update_status_apples: t_apples []\n",
      "In update_tagged: t_tagged [-1, -1]\n",
      "a0 rot,a1 rot\n"
     ]
    },
    {
     "data": {
      "image/png": "[encoded data removed]",
      "text/plain": [
       "<matplotlib.figure.Figure at 0x7fe480d53ba8>"
      ]
     },
     "metadata": {},
     "output_type": "display_data"
    },
    {
     "name": "stdout",
     "output_type": "stream",
     "text": [
      "Direction 1: up\n",
      "Direction 0: down\n"
     ]
    }
   ],
   "source": [
    "r0,r1=test_game.transition_and_get_reward(test_game.actions_dict['stand_still'], test_game.actions_dict['rotate_left'])\n",
    "r0,r1=test_game.transition_and_get_reward(test_game.actions_dict['stand_still'], test_game.actions_dict['rotate_left'])\n",
    "test_game.show_screen(show=True)"
   ]
  },
  {
   "cell_type": "code",
   "execution_count": 135,
   "metadata": {},
   "outputs": [
    {
     "name": "stdout",
     "output_type": "stream",
     "text": [
      "In update_status_apples: t_apples []\n",
      "In update_tagged: t_tagged [-1, -1]\n",
      "a0 beam,a1 beam\n",
      "In use_beam: opponent hit!\n",
      "In use_beam: opponent hit!\n"
     ]
    },
    {
     "data": {
      "image/png": "[encoded data removed]",
      "text/plain": [
       "<matplotlib.figure.Figure at 0x7fe480c1e518>"
      ]
     },
     "metadata": {},
     "output_type": "display_data"
    },
    {
     "name": "stdout",
     "output_type": "stream",
     "text": [
      "Direction 1: up\n",
      "Direction 0: down\n",
      "In update_status_apples: t_apples []\n",
      "In update_tagged: t_tagged [-1, -1]\n",
      "a0 beam,a1 beam\n",
      "In use_beam: opponent hit!\n",
      "In use_beam: opponent hit!\n"
     ]
    },
    {
     "data": {
      "image/png": "[encoded data removed]",
      "text/plain": [
       "<matplotlib.figure.Figure at 0x7fe4809d5160>"
      ]
     },
     "metadata": {},
     "output_type": "display_data"
    },
    {
     "name": "stdout",
     "output_type": "stream",
     "text": [
      "Direction 1: up\n",
      "Direction 0: down\n"
     ]
    }
   ],
   "source": [
    "r0,r1=test_game.transition_and_get_reward(test_game.actions_dict['use_beam'], test_game.actions_dict['use_beam'])\n",
    "test_game.show_screen(show=True)\n",
    "r0,r1=test_game.transition_and_get_reward(test_game.actions_dict['use_beam'], test_game.actions_dict['use_beam'])\n",
    "test_game.show_screen(show=True)"
   ]
  },
  {
   "cell_type": "code",
   "execution_count": 141,
   "metadata": {},
   "outputs": [
    {
     "name": "stdout",
     "output_type": "stream",
     "text": [
      "In update_status_apples: t_apples []\n",
      "In update_tagged: t_tagged [6, 6]\n",
      "a0 rot,a1 rot\n"
     ]
    },
    {
     "data": {
      "image/png": "[encoded data removed]",
      "text/plain": [
       "<matplotlib.figure.Figure at 0x7fe4809b3278>"
      ]
     },
     "metadata": {},
     "output_type": "display_data"
    },
    {
     "name": "stdout",
     "output_type": "stream",
     "text": [
      "Direction 1: up\n",
      "Direction 0: down\n"
     ]
    }
   ],
   "source": [
    "r0,r1=test_game.transition_and_get_reward(test_game.actions_dict['stand_still'], test_game.actions_dict['stand_still'])\n",
    "test_game.show_screen(show=True)"
   ]
  },
  {
   "cell_type": "code",
   "execution_count": 73,
   "metadata": {
    "collapsed": true
   },
   "outputs": [],
   "source": [
    "test_game.reset()"
   ]
  },
  {
   "cell_type": "code",
   "execution_count": 101,
   "metadata": {},
   "outputs": [
    {
     "name": "stdout",
     "output_type": "stream",
     "text": [
      "In update_status_apples: t_apples []\n",
      "a0 rot,a1 rot\n"
     ]
    },
    {
     "data": {
      "image/png": "[encoded data removed]",
      "text/plain": [
       "<matplotlib.figure.Figure at 0x7fe480fbb0b8>"
      ]
     },
     "metadata": {},
     "output_type": "display_data"
    },
    {
     "name": "stdout",
     "output_type": "stream",
     "text": [
      "Direction 0: right\n",
      "Direction 1: down\n",
      "In update_status_apples: t_apples []\n",
      "a0 mov,a1 beam\n",
      "in get_new_pos, pl 0 cur_pos 12 7\n",
      "cur_dir,a 0 1\n",
      "new_x,new_y 12 12.0 8 8.0\n",
      "in move_and_update_apples, pl 0 pos 12 7\n",
      "s: 255\n",
      "sh gr (5,) (5,)\n",
      "pos_pl [12, 5] pos_opp [12, 8] gr_xs,gr_ys [12 12 12 12 12] [0 1 2 3 4]\n"
     ]
    },
    {
     "data": {
      "image/png": "[encoded data removed]",
      "text/plain": [
       "<matplotlib.figure.Figure at 0x7fe480c53780>"
      ]
     },
     "metadata": {},
     "output_type": "display_data"
    },
    {
     "name": "stdout",
     "output_type": "stream",
     "text": [
      "Direction 0: right\n",
      "Direction 1: down\n"
     ]
    }
   ],
   "source": [
    "# s_t, a_{0,t}, a_{1,t}, s_{t+1}\n",
    "r0,r1=test_game.transition_and_get_reward(test_game.actions_dict['stand_still'], test_game.actions_dict['rotate_right'])\n",
    "test_game.show_screen(show=True)\n",
    "#\n",
    "r0,r1=test_game.transition_and_get_reward(test_game.actions_dict['step_left'], test_game.actions_dict['use_beam'])\n",
    "test_game.show_screen(show=True)"
   ]
  },
  {
   "cell_type": "code",
   "execution_count": 102,
   "metadata": {},
   "outputs": [
    {
     "data": {
      "image/png": "[encoded data removed]",
      "text/plain": [
       "<matplotlib.figure.Figure at 0x7fe480c175f8>"
      ]
     },
     "metadata": {},
     "output_type": "display_data"
    },
    {
     "name": "stdout",
     "output_type": "stream",
     "text": [
      "Direction 0: right\n",
      "Direction 1: down\n"
     ]
    }
   ],
   "source": [
    "test_game.show_screen(show=True)"
   ]
  },
  {
   "cell_type": "code",
   "execution_count": 103,
   "metadata": {
    "scrolled": false
   },
   "outputs": [
    {
     "name": "stdout",
     "output_type": "stream",
     "text": [
      "In obs_0, pos_0: 12 8\n",
      "(21, 16, 3)\n"
     ]
    },
    {
     "data": {
      "image/png": "[encoded data removed]",
      "text/plain": [
       "<matplotlib.figure.Figure at 0x7fe480b2afd0>"
      ]
     },
     "metadata": {},
     "output_type": "display_data"
    },
    {
     "name": "stdout",
     "output_type": "stream",
     "text": [
      "In obs_1, pos_1: 12 5\n",
      "(21, 16, 3)\n"
     ]
    },
    {
     "data": {
      "image/png": "[encoded data removed]",
      "text/plain": [
       "<matplotlib.figure.Figure at 0x7fe480dfc198>"
      ]
     },
     "metadata": {},
     "output_type": "display_data"
    }
   ],
   "source": [
    "# test of observation functions\n",
    "# test of obs_0  \n",
    "#r0,r1=test.transition_and_get_reward(test.actions_dict['rotate_right'], test.actions_dict['rotate_left'])\n",
    "#test.show_screen()\n",
    "#print('Reward', r0,r1)\n",
    "obs_0_s=test_game.obs_0()\n",
    "to_show = obs_0_s.transpose((2,1,0))\n",
    "print(to_show.shape)\n",
    "plt.imshow(to_show,origin='lower')\n",
    "plt.show()\n",
    "# test of obs_1\n",
    "obs_1_s=test_game.obs_1()\n",
    "to_show = obs_1_s.transpose((2,1,0))\n",
    "print(to_show.shape)\n",
    "plt.imshow(to_show,origin='lower')\n",
    "plt.show()"
   ]
  },
  {
   "cell_type": "code",
   "execution_count": 8,
   "metadata": {
    "collapsed": true
   },
   "outputs": [
    {
     "data": {
      "image/png": "[encoded data removed]",
      "text/plain": [
       "<matplotlib.figure.Figure at 0x7f1cda1a84e0>"
      ]
     },
     "metadata": {},
     "output_type": "display_data"
    },
    {
     "name": "stdout",
     "output_type": "stream",
     "text": [
      "Direction 0: right\n",
      "Direction 1: right\n"
     ]
    }
   ],
   "source": [
    "test.reset()\n",
    "test.show_screen()"
   ]
  },
  {
   "cell_type": "code",
   "execution_count": 20,
   "metadata": {
    "collapsed": true
   },
   "outputs": [
    {
     "name": "stdout",
     "output_type": "stream",
     "text": [
      "In update_status_apples: t_apples []\n",
      "a0,a1 mov\n",
      "in get_new_pos, pl 0 cur_pos 0 7\n",
      "cur_dir,a 0 0\n",
      "new_x,new_y 1 1.0 7 7.0\n",
      "in get_new_pos, pl 1 cur_pos 0 5\n",
      "cur_dir,a 0 0\n",
      "new_x,new_y 1 1.0 5 5.0\n",
      "in move_and_update_apples, pl 0 pos 0 7\n",
      "s: 255\n",
      "in move_and_update_apples, pl 1 pos 0 5\n",
      "s: 255\n",
      "In update_status_apples: t_apples []\n",
      "a0,a1 mov\n",
      "in get_new_pos, pl 0 cur_pos 1 7\n",
      "cur_dir,a 0 0\n",
      "new_x,new_y 2 2.0 7 7.0\n",
      "in get_new_pos, pl 1 cur_pos 1 5\n",
      "cur_dir,a 0 0\n",
      "new_x,new_y 2 2.0 5 5.0\n",
      "in move_and_update_apples, pl 0 pos 1 7\n",
      "s: 255\n",
      "in move_and_update_apples, pl 1 pos 1 5\n",
      "s: 255\n",
      "In update_status_apples: t_apples []\n",
      "a0,a1 mov\n",
      "in get_new_pos, pl 0 cur_pos 2 7\n",
      "cur_dir,a 0 0\n",
      "new_x,new_y 3 3.0 7 7.0\n",
      "in get_new_pos, pl 1 cur_pos 2 5\n",
      "cur_dir,a 0 0\n",
      "new_x,new_y 3 3.0 5 5.0\n",
      "in move_and_update_apples, pl 0 pos 2 7\n",
      "s: 255\n",
      "in move_and_update_apples, pl 1 pos 2 5\n",
      "s: 255\n",
      "In update_status_apples: t_apples []\n",
      "a0,a1 mov\n",
      "in get_new_pos, pl 0 cur_pos 3 7\n",
      "cur_dir,a 0 0\n",
      "new_x,new_y 4 4.0 7 7.0\n",
      "in get_new_pos, pl 1 cur_pos 3 5\n",
      "cur_dir,a 0 0\n",
      "new_x,new_y 4 4.0 5 5.0\n",
      "in move_and_update_apples, pl 0 pos 3 7\n",
      "s: 255\n",
      "in move_and_update_apples, pl 1 pos 3 5\n",
      "s: 255\n",
      "In update_status_apples: t_apples []\n",
      "a0,a1 mov\n",
      "in get_new_pos, pl 0 cur_pos 4 7\n",
      "cur_dir,a 0 0\n",
      "new_x,new_y 5 5.0 7 7.0\n",
      "in get_new_pos, pl 1 cur_pos 4 5\n",
      "cur_dir,a 0 0\n",
      "new_x,new_y 5 5.0 5 5.0\n",
      "in move_and_update_apples, pl 0 pos 4 7\n",
      "s: 255\n",
      "in move_and_update_apples, pl 1 pos 4 5\n",
      "s: 255\n",
      "In update_status_apples: t_apples []\n",
      "a0,a1 mov\n",
      "in get_new_pos, pl 0 cur_pos 5 7\n",
      "cur_dir,a 0 0\n",
      "new_x,new_y 6 6.0 7 7.0\n",
      "in get_new_pos, pl 1 cur_pos 5 5\n",
      "cur_dir,a 0 0\n",
      "new_x,new_y 6 6.0 5 5.0\n",
      "in move_and_update_apples, pl 0 pos 5 7\n",
      "s: 255\n",
      "in move_and_update_apples, pl 1 pos 5 5\n",
      "s: 255\n",
      "In update_status_apples: t_apples []\n",
      "a0,a1 mov\n",
      "in get_new_pos, pl 0 cur_pos 6 7\n",
      "cur_dir,a 0 0\n",
      "new_x,new_y 7 7.0 7 7.0\n",
      "in get_new_pos, pl 1 cur_pos 6 5\n",
      "cur_dir,a 0 0\n",
      "new_x,new_y 7 7.0 5 5.0\n",
      "in move_and_update_apples, pl 0 pos 6 7\n",
      "s: 255\n",
      "in move_and_update_apples, pl 1 pos 6 5\n",
      "s: 255\n",
      "In update_status_apples: t_apples []\n",
      "a0,a1 mov\n",
      "in get_new_pos, pl 0 cur_pos 7 7\n",
      "cur_dir,a 0 0\n",
      "new_x,new_y 8 8.0 7 7.0\n",
      "in get_new_pos, pl 1 cur_pos 7 5\n",
      "cur_dir,a 0 0\n",
      "new_x,new_y 8 8.0 5 5.0\n",
      "in move_and_update_apples, pl 0 pos 7 7\n",
      "s: 255\n",
      "in move_and_update_apples, pl 1 pos 7 5\n",
      "s: 255\n",
      "In update_status_apples: t_apples []\n",
      "a0,a1 mov\n",
      "in get_new_pos, pl 0 cur_pos 8 7\n",
      "cur_dir,a 0 0\n",
      "new_x,new_y 9 9.0 7 7.0\n",
      "in get_new_pos, pl 1 cur_pos 8 5\n",
      "cur_dir,a 0 0\n",
      "new_x,new_y 9 9.0 5 5.0\n",
      "in move_and_update_apples, pl 0 pos 8 7\n",
      "s: 255\n",
      "in move_and_update_apples, pl 1 pos 8 5\n",
      "s: 255\n",
      "In update_status_apples: t_apples []\n",
      "a0,a1 mov\n",
      "in get_new_pos, pl 0 cur_pos 9 7\n",
      "cur_dir,a 0 0\n",
      "new_x,new_y 10 10.0 7 7.0\n",
      "in get_new_pos, pl 1 cur_pos 9 5\n",
      "cur_dir,a 0 0\n",
      "new_x,new_y 10 10.0 5 5.0\n",
      "in move_and_update_apples, pl 0 pos 9 7\n",
      "s: 255\n",
      "in move_and_update_apples, pl 1 pos 9 5\n",
      "s: 255\n",
      "In update_status_apples: t_apples []\n",
      "a0,a1 mov\n",
      "in get_new_pos, pl 0 cur_pos 10 7\n",
      "cur_dir,a 0 0\n",
      "new_x,new_y 11 11.0 7 7.0\n",
      "in get_new_pos, pl 1 cur_pos 10 5\n",
      "cur_dir,a 0 0\n",
      "new_x,new_y 11 11.0 5 5.0\n",
      "in move_and_update_apples, pl 0 pos 10 7\n",
      "s: 255\n",
      "in move_and_update_apples, pl 1 pos 10 5\n",
      "s: 255\n",
      "In update_status_apples: t_apples []\n",
      "a0,a1 mov\n",
      "in get_new_pos, pl 0 cur_pos 11 7\n",
      "cur_dir,a 0 0\n",
      "new_x,new_y 12 12.0 7 7.0\n",
      "in get_new_pos, pl 1 cur_pos 11 5\n",
      "cur_dir,a 0 0\n",
      "new_x,new_y 12 12.0 5 5.0\n",
      "in move_and_update_apples, pl 0 pos 11 7\n",
      "s: 255\n",
      "in move_and_update_apples, pl 1 pos 11 5\n",
      "s: 255\n",
      "In update_status_apples: t_apples []\n",
      "a0,a1 mov\n",
      "in get_new_pos, pl 0 cur_pos 12 7\n",
      "cur_dir,a 0 0\n",
      "new_x,new_y 13 13.0 7 7.0\n",
      "in get_new_pos, pl 1 cur_pos 12 5\n",
      "cur_dir,a 0 0\n",
      "new_x,new_y 13 13.0 5 5.0\n",
      "in move_and_update_apples, pl 0 pos 12 7\n",
      "s: 255\n",
      "in move_and_update_apples, pl 1 pos 12 5\n",
      "s: 255\n",
      "In update_status_apples: t_apples []\n",
      "a0,a1 mov\n",
      "in get_new_pos, pl 0 cur_pos 13 7\n",
      "cur_dir,a 0 0\n",
      "new_x,new_y 14 14.0 7 7.0\n",
      "in get_new_pos, pl 1 cur_pos 13 5\n",
      "cur_dir,a 0 0\n",
      "new_x,new_y 14 14.0 5 5.0\n",
      "in move_and_update_apples, pl 0 pos 13 7\n",
      "s: 255\n",
      "in move_and_update_apples, pl 1 pos 13 5\n",
      "s: 255\n",
      "In update_status_apples: t_apples []\n",
      "a0,a1 mov\n",
      "in get_new_pos, pl 0 cur_pos 14 7\n",
      "cur_dir,a 0 0\n",
      "new_x,new_y 15 15.0 7 7.0\n",
      "in get_new_pos, pl 1 cur_pos 14 5\n",
      "cur_dir,a 0 0\n",
      "new_x,new_y 15 15.0 5 5.0\n",
      "in move_and_update_apples, pl 0 pos 14 7\n",
      "s: 255\n",
      "in move_and_update_apples, pl 1 pos 14 5\n",
      "s: 255\n"
     ]
    },
    {
     "data": {
      "image/png": "[encoded data removed]",
      "text/plain": [
       "<matplotlib.figure.Figure at 0x7f8ecf82fba8>"
      ]
     },
     "metadata": {},
     "output_type": "display_data"
    },
    {
     "name": "stdout",
     "output_type": "stream",
     "text": [
      "Direction 0: right\n",
      "Direction 1: right\n"
     ]
    }
   ],
   "source": [
    "for i in range(15):\n",
    "    test.transition_and_get_reward(test.actions_dict['step_forward'], test.actions_dict['step_forward'])\n",
    "test.show_screen()"
   ]
  },
  {
   "cell_type": "code",
   "execution_count": 37,
   "metadata": {
    "collapsed": true
   },
   "outputs": [
    {
     "name": "stdout",
     "output_type": "stream",
     "text": [
      "In update_status_apples: t_apples []\n",
      "a0,a1 mov\n",
      "in get_new_pos, pl 0 cur_pos 20 8\n",
      "cur_dir,a 0 0\n",
      "new_x,new_y 21 21.0 8 8.0\n",
      "in get_new_pos, pl 1 cur_pos 20 4\n",
      "cur_dir,a 0 0\n",
      "new_x,new_y 21 21.0 4 4.0\n",
      "in move_and_update_apples, pl 0 pos 20 8\n",
      "s: 255\n",
      "in move_and_update_apples, pl 1 pos 20 4\n",
      "s: 255\n"
     ]
    },
    {
     "data": {
      "image/png": "[encoded data removed]",
      "text/plain": [
       "<matplotlib.figure.Figure at 0x7f8ecf908320>"
      ]
     },
     "metadata": {},
     "output_type": "display_data"
    },
    {
     "name": "stdout",
     "output_type": "stream",
     "text": [
      "Direction 0: right\n",
      "Direction 1: right\n",
      "Reward 0 0\n"
     ]
    }
   ],
   "source": [
    "#r0,r1=test.transition_and_get_reward(test.actions_dict['stand_still'], test.actions_dict['stand_still'])\n",
    "r0,r1=test.transition_and_get_reward(test.actions_dict['step_forward'], test.actions_dict['step_forward'])\n",
    "#r0,r1=test.transition_and_get_reward(test.actions_dict['step_left'], test.actions_dict['step_right'])\n",
    "test.show_screen()\n",
    "print('Reward',r0,r1)"
   ]
  },
  {
   "cell_type": "code",
   "execution_count": 195,
   "metadata": {
    "collapsed": true
   },
   "outputs": [
    {
     "name": "stdout",
     "output_type": "stream",
     "text": [
      "In update_status_apples: t_apples []\n",
      "a0,a1 mov\n",
      "in get_new_pos, pl 0 cur_pos 15 7\n",
      "cur_dir,a 0 3\n",
      "new_x,new_y 15 15.0 6 6.0\n",
      "in get_new_pos, pl 1 cur_pos 15 5\n",
      "cur_dir,a 0 3\n",
      "new_x,new_y 15 15.0 4 4.0\n",
      "In move_and_update_apples, got an apple!\n",
      "in move_and_update_apples, pl 0 pos 15 7\n",
      "s: 255\n",
      "in move_and_update_apples, pl 1 pos 15 5\n",
      "s: 255\n"
     ]
    },
    {
     "data": {
      "image/png": "[encoded data removed]",
      "text/plain": [
       "<matplotlib.figure.Figure at 0x7f55f999a278>"
      ]
     },
     "metadata": {},
     "output_type": "display_data"
    },
    {
     "name": "stdout",
     "output_type": "stream",
     "text": [
      "Direction 0: right\n",
      "Direction 1: right\n",
      "Reward 1 0\n"
     ]
    }
   ],
   "source": [
    "r0,r1=test.transition_and_get_reward(test.actions_dict['step_right'], test.actions_dict['step_right'])\n",
    "test.show_screen()\n",
    "print('Reward', r0,r1)"
   ]
  },
  {
   "cell_type": "code",
   "execution_count": 10,
   "metadata": {
    "collapsed": true
   },
   "outputs": [],
   "source": [
    "# test the transition functions by performing random moves:\n",
    "import time\n",
    "def random_actions():\n",
    "    # init\n",
    "    game = gathering_game(game_pars)\n",
    "    # play N random actions and show on screen\n",
    "    N = 5\n",
    "    for t in range(N):\n",
    "        print('Time',game.global_time)\n",
    "        a0,a1 = (8*np.random.random((2,))).astype(int)\n",
    "        for k,v in game.actions_dict.items():\n",
    "            if a0 == v:\n",
    "                print('Action 0:',k)\n",
    "            if a1 == v:\n",
    "                print('Action 1:',k)\n",
    "        game.transition_and_get_reward(a0, a1)\n",
    "        game.show_screen()\n",
    "        time.sleep(1)"
   ]
  },
  {
   "cell_type": "code",
   "execution_count": 11,
   "metadata": {
    "collapsed": true
   },
   "outputs": [
    {
     "name": "stdout",
     "output_type": "stream",
     "text": [
      "Time 0\n",
      "Action 1: use_beam\n",
      "Action 0: step_back-ward\n",
      "In update_status_apples: t_apples []\n",
      "a0 mov,a1 beam\n",
      "in get_new_pos, pl 0 cur_pos 0 7\n",
      "cur_dir,a 0 2\n",
      "new_x,new_y -1 -1.0 7 7.0\n",
      "out of box\n",
      "in move_and_update_apples, pl 0 pos 0 7\n",
      "s: 255\n",
      "sh gr (32,) (32,)\n",
      "pos_pl [0, 5] pos_opp [0, 7] gr_xs,gr_ys [ 1  2  3  4  5  6  7  8  9 10 11 12 13 14 15 16 17 18 19 20 21 22 23 24 25\n",
      " 26 27 28 29 30 31 32] [5 5 5 5 5 5 5 5 5 5 5 5 5 5 5 5 5 5 5 5 5 5 5 5 5 5 5 5 5 5 5 5]\n"
     ]
    },
    {
     "data": {
      "image/png": "[encoded data removed]",
      "text/plain": [
       "<matplotlib.figure.Figure at 0x7f1cda3aea58>"
      ]
     },
     "metadata": {},
     "output_type": "display_data"
    },
    {
     "name": "stdout",
     "output_type": "stream",
     "text": [
      "Direction 0: right\n",
      "Direction 1: right\n",
      "Time 1\n",
      "Action 0: rotate_right\n",
      "Action 1: rotate_left\n",
      "In update_status_apples: t_apples []\n",
      "a0 rot,a1 rot\n"
     ]
    },
    {
     "data": {
      "image/png": "[encoded data removed]",
      "text/plain": [
       "<matplotlib.figure.Figure at 0x7f1cda11f3c8>"
      ]
     },
     "metadata": {},
     "output_type": "display_data"
    },
    {
     "name": "stdout",
     "output_type": "stream",
     "text": [
      "Direction 0: down\n",
      "Direction 1: up\n",
      "Time 2\n",
      "Action 0: step_right\n",
      "Action 1: rotate_right\n",
      "In update_status_apples: t_apples []\n",
      "a0 mov,a1 rot\n",
      "in get_new_pos, pl 0 cur_pos 0 7\n",
      "cur_dir,a 3 3\n",
      "new_x,new_y -1 -1.0 7 7.0\n",
      "out of box\n",
      "in move_and_update_apples, pl 0 pos 0 7\n",
      "s: 255\n"
     ]
    },
    {
     "data": {
      "image/png": "[encoded data removed]",
      "text/plain": [
       "<matplotlib.figure.Figure at 0x7f1cda13d6a0>"
      ]
     },
     "metadata": {},
     "output_type": "display_data"
    },
    {
     "name": "stdout",
     "output_type": "stream",
     "text": [
      "Direction 1: right\n",
      "Direction 0: down\n",
      "Time 3\n",
      "Action 0: step_back-ward\n",
      "Action 1: rotate_left\n",
      "In update_status_apples: t_apples []\n",
      "a0 mov,a1 rot\n",
      "in get_new_pos, pl 0 cur_pos 0 7\n",
      "cur_dir,a 3 2\n",
      "new_x,new_y 0 3.06161699787e-16 8 8.0\n",
      "in move_and_update_apples, pl 0 pos 0 7\n",
      "s: 255\n"
     ]
    },
    {
     "data": {
      "image/png": "[encoded data removed]",
      "text/plain": [
       "<matplotlib.figure.Figure at 0x7f1cda3c6b38>"
      ]
     },
     "metadata": {},
     "output_type": "display_data"
    },
    {
     "name": "stdout",
     "output_type": "stream",
     "text": [
      "Direction 0: down\n",
      "Direction 1: up\n",
      "Time 4\n",
      "Action 0: step_left\n",
      "Action 1: step_forward\n",
      "In update_status_apples: t_apples []\n",
      "a0,a1 mov\n",
      "in get_new_pos, pl 0 cur_pos 0 8\n",
      "cur_dir,a 3 1\n",
      "new_x,new_y 1 1.0 8 8.0\n",
      "in get_new_pos, pl 1 cur_pos 0 5\n",
      "cur_dir,a 1 0\n",
      "new_x,new_y 0 6.12323399574e-17 6 6.0\n",
      "in move_and_update_apples, pl 0 pos 0 8\n",
      "s: 255\n",
      "in move_and_update_apples, pl 1 pos 0 5\n",
      "s: 255\n"
     ]
    },
    {
     "data": {
      "image/png": "[encoded data removed]",
      "text/plain": [
       "<matplotlib.figure.Figure at 0x7f1cda3e9780>"
      ]
     },
     "metadata": {},
     "output_type": "display_data"
    },
    {
     "name": "stdout",
     "output_type": "stream",
     "text": [
      "Direction 0: down\n",
      "Direction 1: up\n"
     ]
    }
   ],
   "source": [
    "random_actions()"
   ]
  },
  {
   "cell_type": "markdown",
   "metadata": {},
   "source": [
    "## dqn class"
   ]
  },
  {
   "cell_type": "code",
   "execution_count": 4,
   "metadata": {},
   "outputs": [
    {
     "data": {
      "text/plain": [
       "<module 'dqn_file' from '/home/roby/ssd/modules/dqn_file.py'>"
      ]
     },
     "execution_count": 4,
     "metadata": {},
     "output_type": "execute_result"
    }
   ],
   "source": [
    "reload(dqn_file)"
   ]
  },
  {
   "cell_type": "code",
   "execution_count": 14,
   "metadata": {
    "collapsed": true
   },
   "outputs": [],
   "source": [
    "import dqn_file\n",
    "from dqn_file import dqn"
   ]
  },
  {
   "cell_type": "code",
   "execution_count": 15,
   "metadata": {
    "collapsed": true
   },
   "outputs": [
    {
     "name": "stdout",
     "output_type": "stream",
     "text": [
      "torch.Size([32, 3, 5, 5])\n",
      "torch.Size([32])\n",
      "torch.Size([1728, 1728])\n",
      "torch.Size([1728])\n",
      "torch.Size([32, 32, 5, 5])\n",
      "torch.Size([32])\n",
      "torch.Size([8, 96])\n",
      "torch.Size([8])\n",
      "x torch.Size([1, 3, 16, 21]) <class 'torch.autograd.variable.Variable'>\n",
      "\n",
      " 0.0000  0.0753  0.0824  0.0000  0.1008  0.0000  0.0000  0.0000\n",
      "[torch.FloatTensor of size 1x8]\n",
      "\n",
      "(\n",
      " 0.1008\n",
      "[torch.FloatTensor of size 1x1]\n",
      ", \n",
      " 4\n",
      "[torch.LongTensor of size 1x1]\n",
      ")\n",
      "\n",
      " 4\n",
      "[torch.LongTensor of size 1x1]\n",
      "\n"
     ]
    }
   ],
   "source": [
    "# test of dqn: OK\n",
    "import torch\n",
    "import torch.autograd as autograd\n",
    "\n",
    "C_in = 3 # for RGB\n",
    "C_H = 32 # number of hidden units (or channels)\n",
    "C_out = 8 # number of actions.\n",
    "kernel_size = 5 \n",
    "stride = 2\n",
    "# width and height of observation region\n",
    "obs_window_W = 21\n",
    "obs_window_H = 16\n",
    "\n",
    "model_test = dqn(C_in, C_H, C_out, kernel_size, stride, obs_window_H, obs_window_W)\n",
    "for p in model_test.parameters():\n",
    "    print(p.size())\n",
    "\n",
    "# test with a random smaple (use unsqueeze to get extra batch dimension)\n",
    "x_test = autograd.Variable(torch.randn(C_in, obs_window_H, obs_window_W).unsqueeze(0))\n",
    "print('x',x_test.size(),type(x_test))\n",
    "y_pred = model_test(x_test)\n",
    "print(y_pred.data)\n",
    "print(y_pred.data.max(1))\n",
    "print(y_pred.data.max(1)[1])"
   ]
  },
  {
   "cell_type": "markdown",
   "metadata": {},
   "source": [
    "## q_learner class"
   ]
  },
  {
   "cell_type": "code",
   "execution_count": 6,
   "metadata": {
    "collapsed": true
   },
   "outputs": [],
   "source": [
    "import q_learner_file"
   ]
  },
  {
   "cell_type": "code",
   "execution_count": 125,
   "metadata": {},
   "outputs": [
    {
     "data": {
      "text/plain": [
       "<module 'q_learner_file' from '/home/roby/ssd/modules/q_learner_file.py'>"
      ]
     },
     "execution_count": 125,
     "metadata": {},
     "output_type": "execute_result"
    }
   ],
   "source": [
    "reload(q_learner_file)"
   ]
  },
  {
   "cell_type": "code",
   "execution_count": 126,
   "metadata": {
    "collapsed": true
   },
   "outputs": [],
   "source": [
    "from q_learner_file import experience, replay_memory, q_learner"
   ]
  },
  {
   "cell_type": "code",
   "execution_count": 11,
   "metadata": {
    "collapsed": true
   },
   "outputs": [
    {
     "data": {
      "text/plain": [
       "\n",
       "(0 ,0 ,.,.) = \n",
       "  1.2230  2.0554\n",
       " -1.9772 -0.9009\n",
       "\n",
       "(0 ,1 ,.,.) = \n",
       " -0.0195  0.5406\n",
       "  0.0003  2.2373\n",
       "\n",
       "(0 ,2 ,.,.) = \n",
       " -0.0450 -1.2376\n",
       " -0.0837  0.1768\n",
       "[torch.FloatTensor of size 1x3x2x2]"
      ]
     },
     "execution_count": 11,
     "metadata": {},
     "output_type": "execute_result"
    }
   ],
   "source": [
    "# test namedtuple. all its members are torch tensors: OK\n",
    "import torch\n",
    "s = torch.randn(3,2,2).unsqueeze(0)\n",
    "a = torch.Tensor([1])\n",
    "sp = torch.randn(3,2,2).unsqueeze(0)\n",
    "r = torch.Tensor([0])\n",
    "test_exp = experience(s,a,r,sp)\n",
    "test_exp.next_observation"
   ]
  },
  {
   "cell_type": "code",
   "execution_count": 16,
   "metadata": {
    "collapsed": true
   },
   "outputs": [
    {
     "name": "stdout",
     "output_type": "stream",
     "text": [
      "\n",
      " 0.1744\n",
      " 0.1628\n",
      "[torch.FloatTensor of size 2x1]\n",
      "\n",
      "None\n",
      "None\n",
      "False\n",
      "True\n",
      "after volatile=False\n",
      "False\n",
      "False\n"
     ]
    }
   ],
   "source": [
    "# test of memory: OK\n",
    "import torch\n",
    "import torch.autograd as autograd\n",
    "N=5\n",
    "batch_size = 2\n",
    "rpl_mem_test = replay_memory(N)\n",
    "for i in range(N):\n",
    "    s = torch.randn(3,obs_window_W,obs_window_H).unsqueeze(0)\n",
    "    a = torch.floor(torch.rand(1)*8)\n",
    "    sp = torch.randn(3,obs_window_W,obs_window_H).unsqueeze(0)\n",
    "    r = torch.randn(1)\n",
    "    rpl_mem_test.push(s,a,r,sp)  \n",
    "\n",
    "# create batch as in optimize\n",
    "sample_experience = rpl_mem_test.sample(batch_size)\n",
    "minibatch = experience(*zip(*sample_experience))\n",
    "next_obs_batch = autograd.Variable(torch.cat(minibatch.next_observation),\n",
    "                                     volatile=True)\n",
    "obs_batch = autograd.Variable(torch.cat(minibatch.observation))\n",
    "action_batch = autograd.Variable(torch.cat(minibatch.action))\n",
    "reward_batch = autograd.Variable(torch.cat(minibatch.reward))\n",
    "\n",
    "# test grad_false in max_Q_next_obs=max_a Q(next_obs, a) using previous test model\n",
    "max_Q_next_obs = model_test(next_obs_batch).max(1)[0]\n",
    "print(max_Q_next_obs.data)\n",
    "print(max_Q_next_obs.creator)\n",
    "print(max_Q_next_obs.grad)\n",
    "print(max_Q_next_obs.requires_grad)\n",
    "print(max_Q_next_obs.volatile)\n",
    "max_Q_next_obs.volatile = False\n",
    "print('after volatile=False')\n",
    "print(max_Q_next_obs.requires_grad)\n",
    "print(max_Q_next_obs.volatile)"
   ]
  },
  {
   "cell_type": "code",
   "execution_count": 127,
   "metadata": {
    "collapsed": true
   },
   "outputs": [],
   "source": [
    "# parameters \n",
    "qpars = {}\n",
    "qpars['C_in'] = 3 # for RGB\n",
    "qpars['C_H'] = 32 # number of hidden units (or channels)\n",
    "qpars['C_out'] = 8 # number of actions.\n",
    "qpars['kernel_size'] = 5 \n",
    "qpars['stride'] = 2\n",
    "qpars['obs_window_W'] = 21\n",
    "qpars['obs_window_H'] = 16\n",
    "qpars['capacity'] = 5\n",
    "qpars['batch_size'] = 2\n",
    "qpars['gamma'] = .99\n",
    "qpars['eps_start'] = 0.9\n",
    "qpars['eps_end'] = 0.05\n",
    "qpars['decay_rate'] = 200\n",
    "\n",
    "agent_test = q_learner(qpars)"
   ]
  },
  {
   "cell_type": "code",
   "execution_count": 128,
   "metadata": {},
   "outputs": [
    {
     "name": "stdout",
     "output_type": "stream",
     "text": [
      "pos_0 0 7\n",
      "In pad_and_slice: obs_window_up, obs_window_down, obs_window_right, obs_window_left 11 0 16 0\n",
      "In pad_and_slice: pad_up, pad_down, pad_right, pad_left 7 3 0 0\n",
      "In pad_and_slice: slc_screen_x, slc_screen_y slice(0, 16, None) slice(0, 11, None)\n",
      "In obs_0: ret.shape, right one (3, 16, 21) (3, 16, 21)\n",
      "rand 0.972882396263042 eps 0.5\n",
      "In eps_greedy\n"
     ]
    },
    {
     "data": {
      "text/plain": [
       "\n",
       " 7\n",
       "[torch.LongTensor of size 1x1]"
      ]
     },
     "execution_count": 128,
     "metadata": {},
     "output_type": "execute_result"
    }
   ],
   "source": [
    "# test of preprocess_obs and policy: OK\n",
    "my_obs = agent_test.preprocess_obs(test_game.obs_0())\n",
    "agent_test.eps_greedy(my_obs, 0.5)"
   ]
  },
  {
   "cell_type": "code",
   "execution_count": 129,
   "metadata": {},
   "outputs": [
    {
     "name": "stdout",
     "output_type": "stream",
     "text": [
      "pos_0 0 7\n",
      "In pad_and_slice: obs_window_up, obs_window_down, obs_window_right, obs_window_left 11 0 16 0\n",
      "In pad_and_slice: pad_up, pad_down, pad_right, pad_left 7 3 0 0\n",
      "In pad_and_slice: slc_screen_x, slc_screen_y slice(0, 16, None) slice(0, 11, None)\n",
      "In obs_0: ret.shape, right one (3, 16, 21) (3, 16, 21)\n",
      "pos_1 0 5\n",
      "In pad_and_slice: obs_window_up, obs_window_down, obs_window_right, obs_window_left 11 0 16 0\n",
      "In pad_and_slice: pad_up, pad_down, pad_right, pad_left 5 5 0 0\n",
      "In pad_and_slice: slc_screen_x, slc_screen_y slice(0, 16, None) slice(0, 11, None)\n",
      "In obs_1: ret.shape, right one (3, 16, 21) (3, 16, 21)\n",
      "rand 0.7801092642062027 eps 0.711980665611\n",
      "In eps_greedy\n",
      "In q_learner.optimize: do nothing, len(rpl_memory), bacth_size 1 2\n"
     ]
    },
    {
     "data": {
      "text/plain": [
       "\n",
       " 7\n",
       "[torch.LongTensor of size 1x1]"
      ]
     },
     "execution_count": 129,
     "metadata": {},
     "output_type": "execute_result"
    }
   ],
   "source": [
    "# test of perceive: OK\n",
    "import random\n",
    "s=test_game.obs_0()\n",
    "a=torch.LongTensor([[random.randrange(agent_test.C_out)]])\n",
    "r=1\n",
    "sp=test_game.obs_1()\n",
    "t=50\n",
    "agent_test.perceive(s,a,r,sp,t)"
   ]
  },
  {
   "cell_type": "code",
   "execution_count": 123,
   "metadata": {},
   "outputs": [
    {
     "data": {
      "text/plain": [
       "2"
      ]
     },
     "execution_count": 123,
     "metadata": {},
     "output_type": "execute_result"
    }
   ],
   "source": [
    "len(agent_test.rpl_memory.memory)"
   ]
  }
 ],
 "metadata": {
  "kernelspec": {
   "display_name": "Python 3",
   "language": "python",
   "name": "python3"
  },
  "language_info": {
   "codemirror_mode": {
    "name": "ipython",
    "version": 3
   },
   "file_extension": ".py",
   "mimetype": "text/x-python",
   "name": "python",
   "nbconvert_exporter": "python",
   "pygments_lexer": "ipython3",
   "version": "3.5.2+"
  }
 },
 "nbformat": 4,
 "nbformat_minor": 2
}
